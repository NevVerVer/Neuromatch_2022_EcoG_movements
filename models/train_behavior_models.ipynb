{
 "cells": [
  {
   "cell_type": "code",
   "execution_count": 1,
   "id": "c5be9382-992e-442e-bfcf-8d3e2fa5f3cd",
   "metadata": {},
   "outputs": [],
   "source": [
    "%load_ext autoreload\n",
    "%autoreload 2"
   ]
  },
  {
   "cell_type": "code",
   "execution_count": 56,
   "id": "55226407-1514-49ae-a865-a4b618f32dbb",
   "metadata": {},
   "outputs": [],
   "source": [
    "from pathlib import Path\n",
    "\n",
    "import torch\n",
    "import numpy as np\n",
    "import pandas as pd\n",
    "import matplotlib.pylab as plt\n",
    "import pytorch_lightning as pl\n",
    "from torchinfo import summary\n",
    "from sklearn.model_selection import train_test_split\n",
    "\n",
    "from lstm_model_behavior import RecurrentAutoencoder\n",
    "from lin_ae_model_behavior import LinearAutoencoder, LinearVariationalAutoencoder\n",
    "from utils import plot_reach, train_model\n",
    "\n",
    "plt.rcParams['figure.dpi'] = 100"
   ]
  },
  {
   "cell_type": "code",
   "execution_count": 50,
   "id": "68103255-491c-4c34-bb52-c448ee07bb3c",
   "metadata": {},
   "outputs": [
    {
     "name": "stderr",
     "output_type": "stream",
     "text": [
      "Global seed set to 42\n"
     ]
    }
   ],
   "source": [
    "PATH_ROOT = Path('/Volumes/GoogleDrive/My Drive/NMA-22/naturalistic_arm_movements_ecog')\n",
    "PATH_DATA = PATH_ROOT / 'data' / 'behavior_data'\n",
    "\n",
    "SEED = 42\n",
    "pl.seed_everything(SEED)\n",
    "\n",
    "DTYPE = torch.float\n",
    "DEVICE = torch.device(\"mps\")\n",
    "\n",
    "DATASET = np.load(PATH_DATA / \"reaches_scales.npy\")\n",
    "DATASET = np.swapaxes(DATASET, 2, 1)[:, :75, :]\n",
    "\n",
    "PATH_ROI = PATH_ROOT / \"data\" / \"Naturalistic reach ECoG tfrs ROI\"\n",
    "METADATA = pd.read_csv(PATH_ROI / \"power-roi-all-patients-metadata.csv\", index_col=0)\n",
    "\n",
    "# check the dataset shape\n",
    "assert DATASET.shape == (5984, 75, 2)"
   ]
  },
  {
   "cell_type": "markdown",
   "id": "df294923-0ab0-4d6f-aa42-f7d01a11182b",
   "metadata": {
    "jp-MarkdownHeadingCollapsed": true,
    "tags": []
   },
   "source": [
    "### Prepare data"
   ]
  },
  {
   "cell_type": "code",
   "execution_count": 45,
   "id": "70623e46-7194-402b-88a7-fc491ecf922f",
   "metadata": {},
   "outputs": [],
   "source": [
    "X_train, X_test = train_test_split(DATASET, test_size=0.2, random_state=SEED)\n",
    "\n",
    "X_train, X_val = train_test_split(X_train, test_size=0.2, random_state=SEED)\n",
    "\n",
    "X_train = torch.tensor(X_train, device=DEVICE, dtype=DTYPE)\n",
    "X_test = torch.tensor(X_test, device=DEVICE, dtype=DTYPE)\n",
    "X_val = torch.tensor(X_val, device=DEVICE, dtype=DTYPE)\n",
    "\n",
    "# stack coordinates\n",
    "X_train = torch.swapaxes(X_train, 2, 1).view(X_train.size(0), -1)\n",
    "X_test = torch.swapaxes(X_test, 2, 1).view(X_test.size(0), -1)\n",
    "X_val = torch.swapaxes(X_val, 2, 1).view(X_val.size(0), -1)\n",
    "\n",
    "assert X_train.shape == (3829, 150)"
   ]
  },
  {
   "cell_type": "code",
   "execution_count": 44,
   "id": "15d31d59-a2bf-41cb-b2f7-560e2c4810ad",
   "metadata": {},
   "outputs": [
    {
     "data": {
      "application/vnd.jupyter.widget-view+json": {
       "model_id": "f37437d9c528471eb5f6c944f2d318ef",
       "version_major": 2,
       "version_minor": 0
      },
      "text/plain": [
       "interactive(children=(IntSlider(value=0, description='event', max=5983), Output()), _dom_classes=('widget-inte…"
      ]
     },
     "metadata": {},
     "output_type": "display_data"
    }
   ],
   "source": [
    "import ipywidgets\n",
    "\n",
    "def plot_reaches_widget(event):\n",
    "    fig, ax = plt.subplots(figsize=(5, 5))\n",
    "    plot_reach(ax, DATASET, event)\n",
    "    plt.show();\n",
    "\n",
    "ipywidgets.interact(\n",
    "    plot_reaches_widget, event=ipywidgets.IntSlider(\n",
    "    min=0, max=DATASET.shape[0]-1, step=1, value=0));"
   ]
  },
  {
   "cell_type": "markdown",
   "id": "0b9dfb58-f32b-4ffb-ac6d-bfdafd1e1cfd",
   "metadata": {},
   "source": [
    "### Train models"
   ]
  },
  {
   "cell_type": "markdown",
   "id": "1f09ea73-85f4-41ef-8be3-8d60ad9efb6c",
   "metadata": {},
   "source": [
    "### Linear VAE"
   ]
  },
  {
   "cell_type": "code",
   "execution_count": 54,
   "id": "eab43e82-f9cc-4fe2-bafb-751a0fa8ab8a",
   "metadata": {
    "tags": []
   },
   "outputs": [
    {
     "data": {
      "text/plain": [
       "===================================================================================================================\n",
       "Layer (type:depth-idx)                   Input Shape               Output Shape              Param #\n",
       "===================================================================================================================\n",
       "LinearVariationalAutoencoder             [1, 150]                  [1, 150]                  --\n",
       "├─Sequential: 1-1                        [1, 150]                  [1, 16]                   --\n",
       "│    └─Linear: 2-1                       [1, 150]                  [1, 128]                  19,328\n",
       "│    └─ReLU: 2-2                         [1, 128]                  [1, 128]                  --\n",
       "│    └─Linear: 2-3                       [1, 128]                  [1, 64]                   8,256\n",
       "│    └─ReLU: 2-4                         [1, 64]                   [1, 64]                   --\n",
       "│    └─Linear: 2-5                       [1, 64]                   [1, 16]                   1,040\n",
       "├─Linear: 1-2                            [1, 16]                   [1, 5]                    85\n",
       "├─Linear: 1-3                            [1, 16]                   [1, 5]                    85\n",
       "├─Linear: 1-4                            [1, 5]                    [1, 16]                   96\n",
       "├─Sequential: 1-5                        [1, 16]                   [1, 150]                  --\n",
       "│    └─Linear: 2-6                       [1, 16]                   [1, 64]                   1,088\n",
       "│    └─ReLU: 2-7                         [1, 64]                   [1, 64]                   --\n",
       "│    └─Linear: 2-8                       [1, 64]                   [1, 128]                  8,320\n",
       "│    └─ReLU: 2-9                         [1, 128]                  [1, 128]                  --\n",
       "│    └─Linear: 2-10                      [1, 128]                  [1, 150]                  19,350\n",
       "│    └─Tanh: 2-11                        [1, 150]                  [1, 150]                  --\n",
       "===================================================================================================================\n",
       "Total params: 57,648\n",
       "Trainable params: 57,648\n",
       "Non-trainable params: 0\n",
       "Total mult-adds (M): 0.06\n",
       "===================================================================================================================\n",
       "Input size (MB): 0.00\n",
       "Forward/backward pass size (MB): 0.00\n",
       "Params size (MB): 0.23\n",
       "Estimated Total Size (MB): 0.24\n",
       "==================================================================================================================="
      ]
     },
     "execution_count": 54,
     "metadata": {},
     "output_type": "execute_result"
    }
   ],
   "source": [
    "lvae = LinearVariationalAutoencoder(150, n_latent=5)\n",
    "\n",
    "summary(lvae, (1, 75 * 2), col_names=[\"input_size\", \"output_size\", \"num_params\"]) "
   ]
  },
  {
   "cell_type": "code",
   "execution_count": 57,
   "id": "f3506bf5-ba36-4744-9b60-1bb6983f9fe9",
   "metadata": {
    "collapsed": true,
    "jupyter": {
     "outputs_hidden": true
    },
    "tags": []
   },
   "outputs": [
    {
     "name": "stderr",
     "output_type": "stream",
     "text": [
      "GPU available: False, used: False\n",
      "TPU available: False, using: 0 TPU cores\n",
      "IPU available: False, using: 0 IPUs\n",
      "HPU available: False, using: 0 HPUs\n",
      "Missing logger folder: tb_logs/LinearVariationalAutoencoder_lr=0.01\n",
      "\n",
      "  | Name        | Type       | Params\n",
      "-------------------------------------------\n",
      "0 | encoder     | Sequential | 28.6 K\n",
      "1 | decoder     | Sequential | 28.8 K\n",
      "2 | fc_mu       | Linear     | 85    \n",
      "3 | fc_var      | Linear     | 85    \n",
      "4 | decoder_inp | Linear     | 96    \n",
      "-------------------------------------------\n",
      "57.6 K    Trainable params\n",
      "0         Non-trainable params\n",
      "57.6 K    Total params\n",
      "0.231     Total estimated model params size (MB)\n"
     ]
    },
    {
     "data": {
      "application/vnd.jupyter.widget-view+json": {
       "model_id": "",
       "version_major": 2,
       "version_minor": 0
      },
      "text/plain": [
       "Sanity Checking: 0it [00:00, ?it/s]"
      ]
     },
     "metadata": {},
     "output_type": "display_data"
    },
    {
     "name": "stderr",
     "output_type": "stream",
     "text": [
      "/opt/anaconda3/envs/Neuromatch_2022_EcoG_movements/lib/python3.8/site-packages/pytorch_lightning/trainer/connectors/data_connector.py:240: PossibleUserWarning: The dataloader, train_dataloader, does not have many workers which may be a bottleneck. Consider increasing the value of the `num_workers` argument` (try 8 which is the number of cpus on this machine) in the `DataLoader` init to improve performance.\n",
      "  rank_zero_warn(\n"
     ]
    },
    {
     "data": {
      "application/vnd.jupyter.widget-view+json": {
       "model_id": "6f0675875dae4422ba853f8534df7627",
       "version_major": 2,
       "version_minor": 0
      },
      "text/plain": [
       "Training: 0it [00:00, ?it/s]"
      ]
     },
     "metadata": {},
     "output_type": "display_data"
    },
    {
     "data": {
      "application/vnd.jupyter.widget-view+json": {
       "model_id": "",
       "version_major": 2,
       "version_minor": 0
      },
      "text/plain": [
       "Validation: 0it [00:00, ?it/s]"
      ]
     },
     "metadata": {},
     "output_type": "display_data"
    },
    {
     "data": {
      "application/vnd.jupyter.widget-view+json": {
       "model_id": "",
       "version_major": 2,
       "version_minor": 0
      },
      "text/plain": [
       "Validation: 0it [00:00, ?it/s]"
      ]
     },
     "metadata": {},
     "output_type": "display_data"
    },
    {
     "data": {
      "application/vnd.jupyter.widget-view+json": {
       "model_id": "",
       "version_major": 2,
       "version_minor": 0
      },
      "text/plain": [
       "Validation: 0it [00:00, ?it/s]"
      ]
     },
     "metadata": {},
     "output_type": "display_data"
    },
    {
     "data": {
      "application/vnd.jupyter.widget-view+json": {
       "model_id": "",
       "version_major": 2,
       "version_minor": 0
      },
      "text/plain": [
       "Validation: 0it [00:00, ?it/s]"
      ]
     },
     "metadata": {},
     "output_type": "display_data"
    },
    {
     "data": {
      "application/vnd.jupyter.widget-view+json": {
       "model_id": "",
       "version_major": 2,
       "version_minor": 0
      },
      "text/plain": [
       "Validation: 0it [00:00, ?it/s]"
      ]
     },
     "metadata": {},
     "output_type": "display_data"
    },
    {
     "data": {
      "application/vnd.jupyter.widget-view+json": {
       "model_id": "",
       "version_major": 2,
       "version_minor": 0
      },
      "text/plain": [
       "Validation: 0it [00:00, ?it/s]"
      ]
     },
     "metadata": {},
     "output_type": "display_data"
    },
    {
     "data": {
      "application/vnd.jupyter.widget-view+json": {
       "model_id": "",
       "version_major": 2,
       "version_minor": 0
      },
      "text/plain": [
       "Validation: 0it [00:00, ?it/s]"
      ]
     },
     "metadata": {},
     "output_type": "display_data"
    },
    {
     "data": {
      "application/vnd.jupyter.widget-view+json": {
       "model_id": "",
       "version_major": 2,
       "version_minor": 0
      },
      "text/plain": [
       "Validation: 0it [00:00, ?it/s]"
      ]
     },
     "metadata": {},
     "output_type": "display_data"
    },
    {
     "data": {
      "application/vnd.jupyter.widget-view+json": {
       "model_id": "",
       "version_major": 2,
       "version_minor": 0
      },
      "text/plain": [
       "Validation: 0it [00:00, ?it/s]"
      ]
     },
     "metadata": {},
     "output_type": "display_data"
    },
    {
     "data": {
      "application/vnd.jupyter.widget-view+json": {
       "model_id": "",
       "version_major": 2,
       "version_minor": 0
      },
      "text/plain": [
       "Validation: 0it [00:00, ?it/s]"
      ]
     },
     "metadata": {},
     "output_type": "display_data"
    },
    {
     "data": {
      "application/vnd.jupyter.widget-view+json": {
       "model_id": "",
       "version_major": 2,
       "version_minor": 0
      },
      "text/plain": [
       "Validation: 0it [00:00, ?it/s]"
      ]
     },
     "metadata": {},
     "output_type": "display_data"
    },
    {
     "data": {
      "application/vnd.jupyter.widget-view+json": {
       "model_id": "",
       "version_major": 2,
       "version_minor": 0
      },
      "text/plain": [
       "Validation: 0it [00:00, ?it/s]"
      ]
     },
     "metadata": {},
     "output_type": "display_data"
    },
    {
     "data": {
      "application/vnd.jupyter.widget-view+json": {
       "model_id": "",
       "version_major": 2,
       "version_minor": 0
      },
      "text/plain": [
       "Validation: 0it [00:00, ?it/s]"
      ]
     },
     "metadata": {},
     "output_type": "display_data"
    },
    {
     "data": {
      "application/vnd.jupyter.widget-view+json": {
       "model_id": "",
       "version_major": 2,
       "version_minor": 0
      },
      "text/plain": [
       "Validation: 0it [00:00, ?it/s]"
      ]
     },
     "metadata": {},
     "output_type": "display_data"
    },
    {
     "data": {
      "application/vnd.jupyter.widget-view+json": {
       "model_id": "",
       "version_major": 2,
       "version_minor": 0
      },
      "text/plain": [
       "Validation: 0it [00:00, ?it/s]"
      ]
     },
     "metadata": {},
     "output_type": "display_data"
    },
    {
     "data": {
      "application/vnd.jupyter.widget-view+json": {
       "model_id": "",
       "version_major": 2,
       "version_minor": 0
      },
      "text/plain": [
       "Validation: 0it [00:00, ?it/s]"
      ]
     },
     "metadata": {},
     "output_type": "display_data"
    },
    {
     "data": {
      "application/vnd.jupyter.widget-view+json": {
       "model_id": "",
       "version_major": 2,
       "version_minor": 0
      },
      "text/plain": [
       "Validation: 0it [00:00, ?it/s]"
      ]
     },
     "metadata": {},
     "output_type": "display_data"
    },
    {
     "data": {
      "application/vnd.jupyter.widget-view+json": {
       "model_id": "",
       "version_major": 2,
       "version_minor": 0
      },
      "text/plain": [
       "Validation: 0it [00:00, ?it/s]"
      ]
     },
     "metadata": {},
     "output_type": "display_data"
    },
    {
     "data": {
      "application/vnd.jupyter.widget-view+json": {
       "model_id": "",
       "version_major": 2,
       "version_minor": 0
      },
      "text/plain": [
       "Validation: 0it [00:00, ?it/s]"
      ]
     },
     "metadata": {},
     "output_type": "display_data"
    },
    {
     "data": {
      "application/vnd.jupyter.widget-view+json": {
       "model_id": "",
       "version_major": 2,
       "version_minor": 0
      },
      "text/plain": [
       "Validation: 0it [00:00, ?it/s]"
      ]
     },
     "metadata": {},
     "output_type": "display_data"
    },
    {
     "name": "stderr",
     "output_type": "stream",
     "text": [
      "/opt/anaconda3/envs/Neuromatch_2022_EcoG_movements/lib/python3.8/site-packages/pytorch_lightning/trainer/connectors/data_connector.py:240: PossibleUserWarning: The dataloader, test_dataloader 0, does not have many workers which may be a bottleneck. Consider increasing the value of the `num_workers` argument` (try 8 which is the number of cpus on this machine) in the `DataLoader` init to improve performance.\n",
      "  rank_zero_warn(\n"
     ]
    },
    {
     "data": {
      "application/vnd.jupyter.widget-view+json": {
       "model_id": "efc7929d67ac439fba59e09cee30b25d",
       "version_major": 2,
       "version_minor": 0
      },
      "text/plain": [
       "Testing: 0it [00:00, ?it/s]"
      ]
     },
     "metadata": {},
     "output_type": "display_data"
    },
    {
     "name": "stdout",
     "output_type": "stream",
     "text": [
      "─────────────────────────────────────────────────────────────────────────────────────────────────────────────────────────────────────────\n",
      "       Test metric             DataLoader 0\n",
      "─────────────────────────────────────────────────────────────────────────────────────────────────────────────────────────────────────────\n",
      "        test_loss            0.336504727602005\n",
      "─────────────────────────────────────────────────────────────────────────────────────────────────────────────────────────────────────────\n"
     ]
    }
   ],
   "source": [
    "train_model(\n",
    "    lvae, X_train, X_val, X_test, n_epochs=20, batch_size=20, \n",
    "    add_to_log_name=['n_latent', 'lr'])"
   ]
  },
  {
   "cell_type": "code",
   "execution_count": null,
   "id": "9d13bbbd-1524-4b19-baef-61330291d852",
   "metadata": {},
   "outputs": [],
   "source": []
  }
 ],
 "metadata": {
  "kernelspec": {
   "display_name": "Neuromatch_2022_EcoG_movements",
   "language": "python",
   "name": "neuromatch_2022_ecog_movements"
  },
  "language_info": {
   "codemirror_mode": {
    "name": "ipython",
    "version": 3
   },
   "file_extension": ".py",
   "mimetype": "text/x-python",
   "name": "python",
   "nbconvert_exporter": "python",
   "pygments_lexer": "ipython3",
   "version": "3.8.13"
  }
 },
 "nbformat": 4,
 "nbformat_minor": 5
}
