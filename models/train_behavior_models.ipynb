{
 "cells": [
  {
   "cell_type": "code",
   "execution_count": 1,
   "id": "c5be9382-992e-442e-bfcf-8d3e2fa5f3cd",
   "metadata": {},
   "outputs": [],
   "source": [
    "%load_ext autoreload\n",
    "%autoreload 2"
   ]
  },
  {
   "cell_type": "code",
   "execution_count": 35,
   "id": "55226407-1514-49ae-a865-a4b618f32dbb",
   "metadata": {},
   "outputs": [],
   "source": [
    "from pathlib import Path\n",
    "\n",
    "import torch\n",
    "import numpy as np\n",
    "import pandas as pd\n",
    "import matplotlib.pylab as plt\n",
    "import pytorch_lightning as pl\n",
    "from sklearn.model_selection import train_test_split\n",
    "\n",
    "from lstm_model_behavior import RecurrentAutoencoder\n",
    "from lin_ae_model_behavior import LinearAutoencoder, LinearVariationalAutoencoder\n",
    "from utils import plot_reach, train_model\n",
    "\n",
    "plt.rcParams['figure.dpi'] = 150"
   ]
  },
  {
   "cell_type": "code",
   "execution_count": 31,
   "id": "68103255-491c-4c34-bb52-c448ee07bb3c",
   "metadata": {},
   "outputs": [
    {
     "name": "stderr",
     "output_type": "stream",
     "text": [
      "Global seed set to 42\n"
     ]
    }
   ],
   "source": [
    "PATH_ROOT = Path('/Volumes/GoogleDrive/My Drive/NMA-22/naturalistic_arm_movements_ecog')\n",
    "PATH_DATA = PATH_ROOT / 'data' / 'behavior_data'\n",
    "\n",
    "SEED = 42\n",
    "pl.seed_everything(SEED)\n",
    "\n",
    "DTYPE = torch.float\n",
    "DEVICE = torch.device(\"mps\")\n",
    "\n",
    "DATASET = np.load(PATH_DATA / \"reaches_scales.npy\")\n",
    "DATASET = np.swapaxes(DATASET, 2, 1)[:, :75, :]\n",
    "\n",
    "PATH_ROI = PATH_ROOT / \"data\" / \"Naturalistic reach ECoG tfrs ROI\"\n",
    "METADATA = pd.read_csv(PATH_ROI / \"power-roi-all-patients-metadata.csv\", index_col=0)\n",
    "\n",
    "# check the dataset shape\n",
    "assert DATASET.shape == (5984, 75, 2)"
   ]
  },
  {
   "cell_type": "markdown",
   "id": "df294923-0ab0-4d6f-aa42-f7d01a11182b",
   "metadata": {},
   "source": [
    "### Prepare data"
   ]
  },
  {
   "cell_type": "code",
   "execution_count": 19,
   "id": "70623e46-7194-402b-88a7-fc491ecf922f",
   "metadata": {},
   "outputs": [
    {
     "data": {
      "text/plain": [
       "torch.Size([3829, 75, 2])"
      ]
     },
     "execution_count": 19,
     "metadata": {},
     "output_type": "execute_result"
    }
   ],
   "source": [
    "X_train, X_test = train_test_split(DATASET, test_size=0.2, random_state=SEED)\n",
    "\n",
    "X_train, X_val = train_test_split(X_train, test_size=0.2, random_state=SEED)\n",
    "\n",
    "X_train = torch.tensor(X_train, device=DEVICE, dtype=DTYPE)\n",
    "X_test = torch.tensor(X_test, device=DEVICE, dtype=DTYPE)\n",
    "X_val = torch.tensor(X_val, device=DEVICE, dtype=DTYPE)\n",
    "\n",
    "X_train.shape"
   ]
  },
  {
   "cell_type": "code",
   "execution_count": 37,
   "id": "15d31d59-a2bf-41cb-b2f7-560e2c4810ad",
   "metadata": {},
   "outputs": [
    {
     "data": {
      "application/vnd.jupyter.widget-view+json": {
       "model_id": "e6325bcb21b942b58016cbe96c1c1398",
       "version_major": 2,
       "version_minor": 0
      },
      "text/plain": [
       "interactive(children=(IntSlider(value=0, description='event', max=5983), Output()), _dom_classes=('widget-inte…"
      ]
     },
     "metadata": {},
     "output_type": "display_data"
    }
   ],
   "source": [
    "import ipywidgets\n",
    "\n",
    "def plot_reaches_widget(event):\n",
    "    fig, ax = plt.subplots()\n",
    "    plot_reach(ax, DATASET, event)\n",
    "    plt.show();\n",
    "\n",
    "ipywidgets.interact(\n",
    "    plot_reaches_widget, event=ipywidgets.IntSlider(\n",
    "    min=0, max=DATASET.shape[0]-1, step=1, value=0));"
   ]
  },
  {
   "cell_type": "markdown",
   "id": "0b9dfb58-f32b-4ffb-ac6d-bfdafd1e1cfd",
   "metadata": {},
   "source": [
    "### Train models"
   ]
  },
  {
   "cell_type": "code",
   "execution_count": null,
   "id": "eab43e82-f9cc-4fe2-bafb-751a0fa8ab8a",
   "metadata": {},
   "outputs": [],
   "source": []
  }
 ],
 "metadata": {
  "kernelspec": {
   "display_name": "Neuromatch_2022_EcoG_movements",
   "language": "python",
   "name": "neuromatch_2022_ecog_movements"
  },
  "language_info": {
   "codemirror_mode": {
    "name": "ipython",
    "version": 3
   },
   "file_extension": ".py",
   "mimetype": "text/x-python",
   "name": "python",
   "nbconvert_exporter": "python",
   "pygments_lexer": "ipython3",
   "version": "3.8.13"
  }
 },
 "nbformat": 4,
 "nbformat_minor": 5
}
