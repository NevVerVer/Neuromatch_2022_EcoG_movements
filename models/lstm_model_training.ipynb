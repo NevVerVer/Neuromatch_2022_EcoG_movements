{
 "cells": [
  {
   "cell_type": "code",
   "execution_count": 1,
   "metadata": {
    "collapsed": false,
    "jupyter": {
     "outputs_hidden": false
    },
    "pycharm": {
     "name": "#%%\n"
    }
   },
   "outputs": [],
   "source": [
    "%load_ext autoreload\n",
    "%autoreload 2"
   ]
  },
  {
   "cell_type": "code",
   "execution_count": 18,
   "metadata": {},
   "outputs": [],
   "source": [
    "# jupyter lab --NotebookApp.iopub_data_rate_limit=1.0e20\n",
    "import warnings\n",
    "warnings.filterwarnings('ignore')"
   ]
  },
  {
   "cell_type": "markdown",
   "metadata": {
    "pycharm": {
     "name": "#%% md\n"
    }
   },
   "source": [
    "## Load data"
   ]
  },
  {
   "cell_type": "code",
   "execution_count": 94,
   "metadata": {
    "collapsed": false,
    "jupyter": {
     "outputs_hidden": false
    },
    "pycharm": {
     "name": "#%%\n"
    }
   },
   "outputs": [],
   "source": [
    "from pathlib import Path\n",
    "\n",
    "import matplotlib.pylab as plt\n",
    "import numpy as np\n",
    "import pytorch_lightning as pl\n",
    "import torch\n",
    "from sklearn.model_selection import train_test_split\n",
    "from torch.utils.data import DataLoader\n",
    "from torchinfo import summary\n",
    "from pytorch_lightning.loggers import TensorBoardLogger\n",
    "\n",
    "from lstm_model_behavior import RecurrentAutoencoder"
   ]
  },
  {
   "cell_type": "code",
   "execution_count": 3,
   "metadata": {
    "collapsed": false,
    "jupyter": {
     "outputs_hidden": false
    },
    "pycharm": {
     "name": "#%%\n"
    }
   },
   "outputs": [],
   "source": [
    "PATH_ROOT = Path('/Volumes/GoogleDrive/My Drive/NMA-22/naturalistic_arm_movements_ecog')\n",
    "PATH_DATA = PATH_ROOT / 'data' / 'behavior_data'\n",
    "SEED = 42\n",
    "\n",
    "DTYPE = torch.float\n",
    "DEVICE = torch.device(\"mps\")"
   ]
  },
  {
   "cell_type": "code",
   "execution_count": 4,
   "metadata": {
    "collapsed": false,
    "jupyter": {
     "outputs_hidden": false
    },
    "pycharm": {
     "name": "#%%\n"
    }
   },
   "outputs": [
    {
     "data": {
      "text/plain": [
       "(5984, 2, 75)"
      ]
     },
     "execution_count": 4,
     "metadata": {},
     "output_type": "execute_result"
    }
   ],
   "source": [
    "dataset_full = np.load(PATH_DATA / \"reaches.npy\")\n",
    "k_mean_labels = np.load(PATH_DATA / \"k_mean_labels.npy\")\n",
    "dataset_full.shape"
   ]
  },
  {
   "cell_type": "markdown",
   "metadata": {
    "pycharm": {
     "name": "#%% md\n"
    }
   },
   "source": [
    "## Prepare data"
   ]
  },
  {
   "cell_type": "code",
   "execution_count": 5,
   "metadata": {
    "pycharm": {
     "name": "#%%\n"
    }
   },
   "outputs": [
    {
     "data": {
      "text/plain": [
       "torch.Size([1210, 2, 75])"
      ]
     },
     "execution_count": 5,
     "metadata": {},
     "output_type": "execute_result"
    }
   ],
   "source": [
    "dataset = dataset_full.reshape((dataset_full.shape[0], dataset_full.shape[2], dataset_full.shape[1]))\n",
    "# X_train, X_test = train_test_split(dataset_full[k_mean_labels == 2], test_size=0.04, random_state=SEED)\n",
    "# X_train, X_test = train_test_split(dataset_full, test_size=0.04, random_state=SEED)\n",
    "X_train, X_test = train_test_split(\n",
    "    dataset_full[(k_mean_labels == 2) | (k_mean_labels == 8) | \n",
    "                 (k_mean_labels == 6) | (k_mean_labels == 0) ], test_size=0.04, random_state=SEED)\n",
    "\n",
    "X_train, X_val = train_test_split(X_train, test_size=0.33, random_state=SEED)\n",
    "\n",
    "X_train = torch.tensor(X_train, device=DEVICE, dtype=DTYPE)\n",
    "X_test = torch.tensor(X_test, device=DEVICE, dtype=DTYPE)\n",
    "X_val = torch.tensor(X_val, device=DEVICE, dtype=DTYPE)\n",
    "\n",
    "# train_data = TensorDataset(X_train)\n",
    "# test_data = TensorDataset(X_test)\n",
    "X_train.shape"
   ]
  },
  {
   "cell_type": "markdown",
   "metadata": {
    "pycharm": {
     "name": "#%% md\n"
    }
   },
   "source": [
    "## Load model"
   ]
  },
  {
   "cell_type": "code",
   "execution_count": 90,
   "metadata": {
    "pycharm": {
     "name": "#%%\n"
    }
   },
   "outputs": [
    {
     "data": {
      "text/plain": [
       "===================================================================================================================\n",
       "Layer (type:depth-idx)                   Input Shape               Output Shape              Param #\n",
       "===================================================================================================================\n",
       "RecurrentAutoencoder                     [1, 75, 2]                [1, 75, 2]                --\n",
       "├─Encoder: 1-1                           [1, 75, 2]                [1, 16]                   --\n",
       "│    └─LSTM: 2-1                         [1, 75, 2]                [1, 75, 32]               4,608\n",
       "│    └─LSTM: 2-2                         [1, 75, 32]               [1, 75, 16]               3,200\n",
       "├─Decoder: 1-2                           [1, 16]                   [1, 75, 2]                --\n",
       "│    └─LSTM: 2-3                         [1, 75, 16]               [1, 75, 16]               2,176\n",
       "│    └─LSTM: 2-4                         [1, 75, 16]               [1, 75, 32]               6,400\n",
       "│    └─Linear: 2-5                       [1, 75, 32]               [1, 75, 2]                66\n",
       "===================================================================================================================\n",
       "Total params: 16,450\n",
       "Trainable params: 16,450\n",
       "Non-trainable params: 0\n",
       "Total mult-adds (M): 1.23\n",
       "===================================================================================================================\n",
       "Input size (MB): 0.00\n",
       "Forward/backward pass size (MB): 0.06\n",
       "Params size (MB): 0.07\n",
       "Estimated Total Size (MB): 0.13\n",
       "==================================================================================================================="
      ]
     },
     "execution_count": 90,
     "metadata": {},
     "output_type": "execute_result"
    }
   ],
   "source": [
    "rae_test = RecurrentAutoencoder(75, 2, 16)\n",
    "summary(rae_test, (1, 75, 2),\n",
    "        col_names=[\"input_size\", \"output_size\", \"num_params\",\n",
    "                  ]) # \"kernel_size\", \"mult_adds\", \"trainable\"]"
   ]
  },
  {
   "cell_type": "markdown",
   "metadata": {
    "pycharm": {
     "name": "#%% md\n"
    }
   },
   "source": [
    "## Train model"
   ]
  },
  {
   "cell_type": "code",
   "execution_count": 95,
   "metadata": {
    "pycharm": {
     "name": "#%%\n"
    }
   },
   "outputs": [
    {
     "name": "stderr",
     "output_type": "stream",
     "text": [
      "Global seed set to 42\n"
     ]
    },
    {
     "data": {
      "text/plain": [
       "  | Name                 | Type    | Params\n",
       "-------------------------------------------------\n",
       "0 | encoder              | Encoder | 25.6 K\n",
       "1 | encoder.rnn1         | LSTM    | 22.4 K\n",
       "2 | encoder.rnn2         | LSTM    | 3.2 K \n",
       "3 | decoder              | Decoder | 19.5 K\n",
       "4 | decoder.rnn1         | LSTM    | 2.2 K \n",
       "5 | decoder.rnn2         | LSTM    | 14.8 K\n",
       "6 | decoder.output_layer | Linear  | 2.5 K \n",
       "-------------------------------------------------\n",
       "45.1 K    Trainable params\n",
       "0         Non-trainable params\n",
       "45.1 K    Total params\n",
       "0.180     Total estimated model params size (MB)"
      ]
     },
     "execution_count": 95,
     "metadata": {},
     "output_type": "execute_result"
    }
   ],
   "source": [
    "#@title Init model\n",
    "pl.seed_everything(42)\n",
    "_, n_times, n_features = X_train.shape\n",
    "K = 16\n",
    "n_layers = 2\n",
    "\n",
    "# Initialize model and Trainer\n",
    "rae = RecurrentAutoencoder(n_times, n_features, K, n_layers)\n",
    "pl.utilities.model_summary.summarize(rae, max_depth=-1)"
   ]
  },
  {
   "cell_type": "code",
   "execution_count": null,
   "metadata": {
    "pycharm": {
     "name": "#%%\n"
    },
    "tags": []
   },
   "outputs": [
    {
     "name": "stderr",
     "output_type": "stream",
     "text": [
      "GPU available: False, used: False\n",
      "TPU available: False, using: 0 TPU cores\n",
      "IPU available: False, using: 0 IPUs\n",
      "HPU available: False, using: 0 HPUs\n",
      "\n",
      "  | Name    | Type    | Params\n",
      "------------------------------------\n",
      "0 | encoder | Encoder | 25.6 K\n",
      "1 | decoder | Decoder | 19.5 K\n",
      "------------------------------------\n",
      "45.1 K    Trainable params\n",
      "0         Non-trainable params\n",
      "45.1 K    Total params\n",
      "0.180     Total estimated model params size (MB)\n"
     ]
    },
    {
     "data": {
      "application/vnd.jupyter.widget-view+json": {
       "model_id": "",
       "version_major": 2,
       "version_minor": 0
      },
      "text/plain": [
       "Sanity Checking: 0it [00:00, ?it/s]"
      ]
     },
     "metadata": {},
     "output_type": "display_data"
    },
    {
     "data": {
      "application/vnd.jupyter.widget-view+json": {
       "model_id": "f550e72170064124ab2513792567b19a",
       "version_major": 2,
       "version_minor": 0
      },
      "text/plain": [
       "Training: 0it [00:00, ?it/s]"
      ]
     },
     "metadata": {},
     "output_type": "display_data"
    },
    {
     "data": {
      "application/vnd.jupyter.widget-view+json": {
       "model_id": "",
       "version_major": 2,
       "version_minor": 0
      },
      "text/plain": [
       "Validation: 0it [00:00, ?it/s]"
      ]
     },
     "metadata": {},
     "output_type": "display_data"
    },
    {
     "data": {
      "application/vnd.jupyter.widget-view+json": {
       "model_id": "",
       "version_major": 2,
       "version_minor": 0
      },
      "text/plain": [
       "Validation: 0it [00:00, ?it/s]"
      ]
     },
     "metadata": {},
     "output_type": "display_data"
    },
    {
     "data": {
      "application/vnd.jupyter.widget-view+json": {
       "model_id": "",
       "version_major": 2,
       "version_minor": 0
      },
      "text/plain": [
       "Validation: 0it [00:00, ?it/s]"
      ]
     },
     "metadata": {},
     "output_type": "display_data"
    },
    {
     "name": "stderr",
     "output_type": "stream",
     "text": [
      "IOPub message rate exceeded.\n",
      "The Jupyter server will temporarily stop sending output\n",
      "to the client in order to avoid crashing it.\n",
      "To change this limit, set the config variable\n",
      "`--ServerApp.iopub_msg_rate_limit`.\n",
      "\n",
      "Current values:\n",
      "ServerApp.iopub_msg_rate_limit=1000.0 (msgs/sec)\n",
      "ServerApp.rate_limit_window=3.0 (secs)\n",
      "\n"
     ]
    },
    {
     "data": {
      "application/vnd.jupyter.widget-view+json": {
       "model_id": "",
       "version_major": 2,
       "version_minor": 0
      },
      "text/plain": [
       "Validation: 0it [00:00, ?it/s]"
      ]
     },
     "metadata": {},
     "output_type": "display_data"
    },
    {
     "name": "stderr",
     "output_type": "stream",
     "text": [
      "IOPub message rate exceeded.\n",
      "The Jupyter server will temporarily stop sending output\n",
      "to the client in order to avoid crashing it.\n",
      "To change this limit, set the config variable\n",
      "`--ServerApp.iopub_msg_rate_limit`.\n",
      "\n",
      "Current values:\n",
      "ServerApp.iopub_msg_rate_limit=1000.0 (msgs/sec)\n",
      "ServerApp.rate_limit_window=3.0 (secs)\n",
      "\n"
     ]
    }
   ],
   "source": [
    "n_epochs = 30\n",
    "batch_size = 1\n",
    "\n",
    "logger = TensorBoardLogger(\n",
    "    \"tb_logs\",\n",
    "    name=f\"K_{K}_lr_{rae.lr}_bs_{batch_size}_nl_{n_layers}_grad_acc_T_LR_sch_T_custom_loss_classes_0_2_6_8\")\n",
    "\n",
    "\n",
    "trainer = pl.Trainer(\n",
    "    max_epochs=n_epochs, \n",
    "    accelerator='mps', \n",
    "    logger=logger,\n",
    "    accumulate_grad_batches={0: 8, 4: 4, 8: 1})\n",
    "\n",
    "# Perform training\n",
    "trainer.fit(rae,\n",
    "            DataLoader(\n",
    "                X_train,\n",
    "                batch_size=batch_size,\n",
    "                shuffle=True),\n",
    "            DataLoader(\n",
    "                X_val,\n",
    "                batch_size=batch_size,\n",
    "                shuffle=False),\n",
    "            )\n",
    "\n",
    "# Perform evaluation\n",
    "trainer.test(rae, DataLoader(\n",
    "    X_test,  # mock_data,\n",
    "    shuffle=False))"
   ]
  },
  {
   "cell_type": "code",
   "execution_count": 93,
   "metadata": {
    "pycharm": {
     "name": "#%%\n"
    }
   },
   "outputs": [
    {
     "data": {
      "image/png": "[encoded data removed]",
      "text/plain": [
       "<Figure size 1440x720 with 14 Axes>"
      ]
     },
     "metadata": {
      "needs_background": "light"
     },
     "output_type": "display_data"
    }
   ],
   "source": [
    "n_plot = 7\n",
    "plt.figure(figsize=(20, 10))\n",
    "# dataset_all = X_train.to('cpu')\n",
    "dataset_all = torch.tensor(dataset[k_mean_labels == 8], device='cpu')\n",
    "\n",
    "def plot_reaches_(x, y, duration=0):\n",
    "    plt.plot(x, y, '-', alpha = 0.5)\n",
    "    plt.scatter(x, y, c=np.arange(75))\n",
    "    if duration != 0:\n",
    "        plt.scatter(x[duration], y[duration], c = \"r\")\n",
    "    plt.xlim(-0.15, 0.15)\n",
    "    plt.ylim(-0.15, 0.15)\n",
    "\n",
    "for i in range(n_plot):\n",
    "    idx = torch.randint(len(dataset_all), size=())\n",
    "    data_ = dataset_all[idx]\n",
    "    with torch.no_grad():\n",
    "      # Get reconstructed movements from autoencoder\n",
    "      rae_recon = rae(data_.unsqueeze(0).to('cpu').float())[0]\n",
    "\n",
    "    plt.subplot(2, n_plot, i+1)\n",
    "    plot_reaches_(data_[:, 0], data_[:, 1])\n",
    "    if i == 0:\n",
    "        plt.ylabel('Original\\nMovements')\n",
    "\n",
    "    plt.subplot(2, n_plot, i + 1 + n_plot)\n",
    "    plot_reaches_(rae_recon[0, :], rae_recon[1, :])\n",
    "    if i == 0:\n",
    "        plt.ylabel(f'LSTM AE\\n(K={K})')\n",
    "plt.show()"
   ]
  },
  {
   "cell_type": "code",
   "execution_count": 47,
   "metadata": {
    "pycharm": {
     "name": "#%%\n"
    }
   },
   "outputs": [
    {
     "data": {
      "text/plain": [
       "<matplotlib.colorbar.Colorbar at 0x7fdfd00a2d60>"
      ]
     },
     "execution_count": 47,
     "metadata": {},
     "output_type": "execute_result"
    },
    {
     "data": {
      "image/png": "[encoded data removed]",
      "text/plain": [
       "<Figure size 432x288 with 2 Axes>"
      ]
     },
     "metadata": {
      "needs_background": "light"
     },
     "output_type": "display_data"
    }
   ],
   "source": [
    "plt.imshow(torch.cdist(data_.double(), rae_recon.T.double()))\n",
    "plt.colorbar()"
   ]
  },
  {
   "cell_type": "code",
   "execution_count": 37,
   "metadata": {},
   "outputs": [
    {
     "data": {
      "text/plain": [
       "tensor(-0.0001)"
      ]
     },
     "execution_count": 37,
     "metadata": {},
     "output_type": "execute_result"
    }
   ],
   "source": [
    "torch.diff(rae_recon.T).max()"
   ]
  },
  {
   "cell_type": "code",
   "execution_count": 49,
   "metadata": {},
   "outputs": [
    {
     "data": {
      "text/plain": [
       "torch.Size([75, 2])"
      ]
     },
     "execution_count": 49,
     "metadata": {},
     "output_type": "execute_result"
    }
   ],
   "source": [
    "rae_recon.T.shape"
   ]
  },
  {
   "cell_type": "code",
   "execution_count": 74,
   "metadata": {},
   "outputs": [
    {
     "data": {
      "text/plain": [
       "[<matplotlib.lines.Line2D at 0x7fdfc1144160>,\n",
       " <matplotlib.lines.Line2D at 0x7fdfc1144190>]"
      ]
     },
     "execution_count": 74,
     "metadata": {},
     "output_type": "execute_result"
    },
    {
     "data": {
      "image/png": "[encoded data removed]",
      "text/plain": [
       "<Figure size 432x288 with 1 Axes>"
      ]
     },
     "metadata": {
      "needs_background": "light"
     },
     "output_type": "display_data"
    }
   ],
   "source": [
    "for (d1, d2) in zip(data_.unsqueeze(0), rae_recon.T.unsqueeze(0)):\n",
    "    cs = torch.nn.functional.cosine_similarity(d1, d2)\n",
    "l2 = torch.nn.functional.mse_loss(data_, rae_recon.T, reduction='none')\n",
    "plt.plot(cs)\n",
    "plt.plot(l2)"
   ]
  },
  {
   "cell_type": "code",
   "execution_count": 66,
   "metadata": {},
   "outputs": [
    {
     "data": {
      "text/plain": [
       "torch.Size([1, 75, 2])"
      ]
     },
     "execution_count": 66,
     "metadata": {},
     "output_type": "execute_result"
    }
   ],
   "source": [
    "data_.unsqueeze(0).shape"
   ]
  },
  {
   "cell_type": "code",
   "execution_count": 76,
   "metadata": {},
   "outputs": [
    {
     "name": "stdout",
     "output_type": "stream",
     "text": [
      "tensor(0.9990, dtype=torch.float64)\n"
     ]
    }
   ],
   "source": [
    "for (d1, d2) in zip(data_.unsqueeze(0), rae_recon.T.unsqueeze(0)):\n",
    "    cs = torch.nn.functional.cosine_similarity(d1, d2).max()\n",
    "    print(cs)"
   ]
  },
  {
   "cell_type": "code",
   "execution_count": 78,
   "metadata": {},
   "outputs": [
    {
     "name": "stdout",
     "output_type": "stream",
     "text": [
      "tensor(0.9867, dtype=torch.float64)\n"
     ]
    }
   ],
   "source": [
    "for (d1, d2) in zip(data_.unsqueeze(0), rae_recon.T.unsqueeze(0)):\n",
    "    cs = torch.nn.functional.cosine_similarity(d1, d1).mean()\n",
    "    print(cs)"
   ]
  },
  {
   "cell_type": "code",
   "execution_count": 83,
   "metadata": {},
   "outputs": [
    {
     "data": {
      "text/plain": [
       "tensor([ 0.0000, -1.0000, -1.0000, -1.0000, -1.0000, -1.0000, -1.0000, -1.0000,\n",
       "        -1.0000, -1.0000, -1.0000, -1.0000, -1.0000, -1.0000, -1.0000, -1.0000,\n",
       "        -1.0000, -1.0000, -1.0000, -1.0000, -1.0000, -1.0000, -1.0000, -1.0000,\n",
       "        -1.0000, -1.0000, -1.0000, -1.0000, -1.0000, -1.0000, -1.0000, -1.0000,\n",
       "        -1.0000, -1.0000, -1.0000, -1.0000, -1.0000, -1.0000, -1.0000, -1.0000,\n",
       "        -1.0000, -1.0000, -1.0000, -1.0000, -1.0000, -1.0000, -1.0000, -1.0000,\n",
       "        -1.0000, -1.0000, -1.0000, -1.0000, -1.0000, -1.0000, -1.0000, -1.0000,\n",
       "        -1.0000, -1.0000, -1.0000, -1.0000, -1.0000, -1.0000, -1.0000, -1.0000,\n",
       "        -1.0000, -1.0000, -1.0000, -1.0000, -1.0000, -1.0000, -1.0000, -1.0000,\n",
       "        -1.0000, -1.0000, -1.0000], dtype=torch.float64)"
      ]
     },
     "execution_count": 83,
     "metadata": {},
     "output_type": "execute_result"
    }
   ],
   "source": [
    "torch.nn.functional.cosine_similarity(data_, -data_)"
   ]
  },
  {
   "cell_type": "code",
   "execution_count": 80,
   "metadata": {},
   "outputs": [
    {
     "data": {
      "text/plain": [
       "torch.Size([75, 2])"
      ]
     },
     "execution_count": 80,
     "metadata": {},
     "output_type": "execute_result"
    }
   ],
   "source": [
    "data_.shape"
   ]
  },
  {
   "cell_type": "code",
   "execution_count": 87,
   "metadata": {},
   "outputs": [
    {
     "ename": "TypeError",
     "evalue": "cosine_embedding_loss() missing 1 required positional argument: 'input2'",
     "output_type": "error",
     "traceback": [
      "\u001B[0;31m---------------------------------------------------------------------------\u001B[0m",
      "\u001B[0;31mTypeError\u001B[0m                                 Traceback (most recent call last)",
      "Input \u001B[0;32mIn [87]\u001B[0m, in \u001B[0;36m<cell line: 1>\u001B[0;34m()\u001B[0m\n\u001B[1;32m      1\u001B[0m \u001B[38;5;28;01mfor\u001B[39;00m (d1, d2) \u001B[38;5;129;01min\u001B[39;00m \u001B[38;5;28mzip\u001B[39m(data_\u001B[38;5;241m.\u001B[39munsqueeze(\u001B[38;5;241m0\u001B[39m), rae_recon\u001B[38;5;241m.\u001B[39mT\u001B[38;5;241m.\u001B[39munsqueeze(\u001B[38;5;241m0\u001B[39m)):\n\u001B[0;32m----> 2\u001B[0m     cs \u001B[38;5;241m=\u001B[39m \u001B[43mtorch\u001B[49m\u001B[38;5;241;43m.\u001B[39;49m\u001B[43mnn\u001B[49m\u001B[38;5;241;43m.\u001B[39;49m\u001B[43mfunctional\u001B[49m\u001B[38;5;241;43m.\u001B[39;49m\u001B[43mcosine_embedding_loss\u001B[49m\u001B[43m(\u001B[49m\u001B[43md1\u001B[49m\u001B[43m,\u001B[49m\u001B[43m \u001B[49m\u001B[43mtarget\u001B[49m\u001B[38;5;241;43m=\u001B[39;49m\u001B[43md2\u001B[49m\u001B[43m)\u001B[49m\n\u001B[1;32m      3\u001B[0m     \u001B[38;5;28mprint\u001B[39m(cs)\n",
      "\u001B[0;31mTypeError\u001B[0m: cosine_embedding_loss() missing 1 required positional argument: 'input2'"
     ]
    }
   ],
   "source": [
    "for (d1, d2) in zip(data_.unsqueeze(0), rae_recon.T.unsqueeze(0)):\n",
    "    cs = torch.nn.functional.cosine_embedding_loss(d1, target=d2)\n",
    "    print(cs)\n",
    "\n"
   ]
  },
  {
   "cell_type": "code",
   "execution_count": 88,
   "metadata": {},
   "outputs": [
    {
     "data": {
      "text/plain": [
       "\u001B[0;31mSignature:\u001B[0m\n",
       "\u001B[0mtorch\u001B[0m\u001B[0;34m.\u001B[0m\u001B[0mnn\u001B[0m\u001B[0;34m.\u001B[0m\u001B[0mfunctional\u001B[0m\u001B[0;34m.\u001B[0m\u001B[0mcosine_embedding_loss\u001B[0m\u001B[0;34m(\u001B[0m\u001B[0;34m\u001B[0m\n",
       "\u001B[0;34m\u001B[0m    \u001B[0minput1\u001B[0m\u001B[0;34m:\u001B[0m \u001B[0mtorch\u001B[0m\u001B[0;34m.\u001B[0m\u001B[0mTensor\u001B[0m\u001B[0;34m,\u001B[0m\u001B[0;34m\u001B[0m\n",
       "\u001B[0;34m\u001B[0m    \u001B[0minput2\u001B[0m\u001B[0;34m:\u001B[0m \u001B[0mtorch\u001B[0m\u001B[0;34m.\u001B[0m\u001B[0mTensor\u001B[0m\u001B[0;34m,\u001B[0m\u001B[0;34m\u001B[0m\n",
       "\u001B[0;34m\u001B[0m    \u001B[0mtarget\u001B[0m\u001B[0;34m:\u001B[0m \u001B[0mtorch\u001B[0m\u001B[0;34m.\u001B[0m\u001B[0mTensor\u001B[0m\u001B[0;34m,\u001B[0m\u001B[0;34m\u001B[0m\n",
       "\u001B[0;34m\u001B[0m    \u001B[0mmargin\u001B[0m\u001B[0;34m:\u001B[0m \u001B[0mfloat\u001B[0m \u001B[0;34m=\u001B[0m \u001B[0;36m0\u001B[0m\u001B[0;34m,\u001B[0m\u001B[0;34m\u001B[0m\n",
       "\u001B[0;34m\u001B[0m    \u001B[0msize_average\u001B[0m\u001B[0;34m:\u001B[0m \u001B[0mUnion\u001B[0m\u001B[0;34m[\u001B[0m\u001B[0mbool\u001B[0m\u001B[0;34m,\u001B[0m \u001B[0mNoneType\u001B[0m\u001B[0;34m]\u001B[0m \u001B[0;34m=\u001B[0m \u001B[0;32mNone\u001B[0m\u001B[0;34m,\u001B[0m\u001B[0;34m\u001B[0m\n",
       "\u001B[0;34m\u001B[0m    \u001B[0mreduce\u001B[0m\u001B[0;34m:\u001B[0m \u001B[0mUnion\u001B[0m\u001B[0;34m[\u001B[0m\u001B[0mbool\u001B[0m\u001B[0;34m,\u001B[0m \u001B[0mNoneType\u001B[0m\u001B[0;34m]\u001B[0m \u001B[0;34m=\u001B[0m \u001B[0;32mNone\u001B[0m\u001B[0;34m,\u001B[0m\u001B[0;34m\u001B[0m\n",
       "\u001B[0;34m\u001B[0m    \u001B[0mreduction\u001B[0m\u001B[0;34m:\u001B[0m \u001B[0mstr\u001B[0m \u001B[0;34m=\u001B[0m \u001B[0;34m'mean'\u001B[0m\u001B[0;34m,\u001B[0m\u001B[0;34m\u001B[0m\n",
       "\u001B[0;34m\u001B[0m\u001B[0;34m)\u001B[0m \u001B[0;34m->\u001B[0m \u001B[0mtorch\u001B[0m\u001B[0;34m.\u001B[0m\u001B[0mTensor\u001B[0m\u001B[0;34m\u001B[0m\u001B[0;34m\u001B[0m\u001B[0m\n",
       "\u001B[0;31mDocstring:\u001B[0m\n",
       "cosine_embedding_loss(input1, input2, target, margin=0, size_average=None, reduce=None, reduction='mean') -> Tensor\n",
       "\n",
       "See :class:`~torch.nn.CosineEmbeddingLoss` for details.\n",
       "\u001B[0;31mFile:\u001B[0m      /opt/anaconda3/envs/Neuromatch_2022_EcoG_movements/lib/python3.8/site-packages/torch/nn/functional.py\n",
       "\u001B[0;31mType:\u001B[0m      function\n"
      ]
     },
     "metadata": {},
     "output_type": "display_data"
    }
   ],
   "source": [
    "torch.nn.functional.cosine_embedding_loss?"
   ]
  },
  {
   "cell_type": "code",
   "execution_count": null,
   "metadata": {},
   "outputs": [],
   "source": []
  }
 ],
 "metadata": {
  "kernelspec": {
   "display_name": "Python 3",
   "language": "python",
   "name": "python3"
  },
  "language_info": {
   "codemirror_mode": {
    "name": "ipython",
    "version": 3
   },
   "file_extension": ".py",
   "mimetype": "text/x-python",
   "name": "python",
   "nbconvert_exporter": "python",
   "pygments_lexer": "ipython3",
   "version": "3.8.13"
  }
 },
 "nbformat": 4,
 "nbformat_minor": 4
}