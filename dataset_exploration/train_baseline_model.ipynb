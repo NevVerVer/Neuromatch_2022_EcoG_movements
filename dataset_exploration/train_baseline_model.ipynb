{
 "cells": [
  {
   "cell_type": "code",
   "execution_count": 6,
   "id": "43065028-5880-4757-bd93-315d0fecf43f",
   "metadata": {},
   "outputs": [
    {
     "name": "stdout",
     "output_type": "stream",
     "text": [
      "Importing modules...\n",
      "Module import successful.\n"
     ]
    }
   ],
   "source": [
    "%run imports.py\n",
    "\n",
    "from scipy.io import netcdf\n",
    "#import netCDF4"
   ]
  },
  {
   "cell_type": "code",
   "execution_count": 37,
   "id": "e43f113e-1d16-460b-9b5e-97abdc5e42aa",
   "metadata": {},
   "outputs": [
    {
     "name": "stdout",
     "output_type": "stream",
     "text": [
      "Reading .nc file\n"
     ]
    },
    {
     "data": {
      "text/plain": [
       "{'filename': 'D:\\\\data_nma2022\\\\transfer learning\\\\EC07_ecog_data.nc',\n",
       " 'fp': <_io.BufferedReader name='D:\\\\data_nma2022\\\\transfer learning\\\\EC07_ecog_data.nc'>,\n",
       " 'use_mmap': True,\n",
       " 'mode': 'r',\n",
       " 'version_byte': 2,\n",
       " 'maskandscale': False,\n",
       " 'dimensions': {'events': 1350, 'channels': 65, 'time': 1001},\n",
       " 'variables': {'__xarray_dataarray_variable__': <scipy.io.netcdf.netcdf_variable at 0x1dbb8005040>,\n",
       "  'events': <scipy.io.netcdf.netcdf_variable at 0x1dbb8020dc0>,\n",
       "  'time': <scipy.io.netcdf.netcdf_variable at 0x1dbb8020c40>,\n",
       "  'channels': <scipy.io.netcdf.netcdf_variable at 0x1dbb8020d60>},\n",
       " '_dims': ['events', 'channels', 'time'],\n",
       " '_recs': 0,\n",
       " '_recsize': 0,\n",
       " '_mm': <mmap.mmap at 0x1dbb804e450>,\n",
       " '_mm_buf': array([67, 68, 70, ...,  0,  0, 64], dtype=int8),\n",
       " '_attributes': {}}"
      ]
     },
     "execution_count": 37,
     "metadata": {},
     "output_type": "execute_result"
    }
   ],
   "source": [
    "data_path = r\"D:\\data_nma2022\\transfer learning\"\n",
    "fname = \"EC07_ecog_data.nc\"\n",
    "fpath = os.path.join(data_path, fname)\n",
    "\n",
    "print(f\"Reading {fname}...\")\n",
    "nc = netcdf.NetCDFFile(fpath,'r')\n",
    "\n",
    "nc.__dict__"
   ]
  },
  {
   "cell_type": "code",
   "execution_count": 38,
   "id": "132e4972-e30b-433b-b3d6-75c12c4b92ea",
   "metadata": {},
   "outputs": [
    {
     "name": "stdout",
     "output_type": "stream",
     "text": [
      "Extracting meaningful variables\n",
      "Data shape:  (1350, 65, 1001)\n"
     ]
    }
   ],
   "source": [
    "print(\"Extracting meaningful variables\")\n",
    "\n",
    "times = nc.variables['time'].data\n",
    "xar = nc.variables['__xarray_dataarray_variable__']\n",
    "events = nc.variables['events'].data\n",
    "print(\"Data shape: \", xar.shape)\n",
    "\n",
    "\n",
    "n_events, n_chan, n_times = xar.shape"
   ]
  },
  {
   "cell_type": "code",
   "execution_count": 36,
   "id": "d4c35bf3-25f6-45ff-9cdb-7e23e14767d6",
   "metadata": {},
   "outputs": [
    {
     "data": {
      "text/plain": [
       "[<matplotlib.lines.Line2D at 0x1dbb8020ac0>]"
      ]
     },
     "execution_count": 36,
     "metadata": {},
     "output_type": "execute_result"
    },
    {
     "data": {
      "image/png": "[encoded data removed]",
      "text/plain": [
       "<Figure size 432x288 with 1 Axes>"
      ]
     },
     "metadata": {
      "needs_background": "light"
     },
     "output_type": "display_data"
    }
   ],
   "source": [
    "plt.plot(events)"
   ]
  },
  {
   "cell_type": "code",
   "execution_count": 40,
   "id": "9aeaebd8-244c-4fa2-ab5d-0870650d0848",
   "metadata": {},
   "outputs": [
    {
     "data": {
      "text/plain": [
       "array([3, 3, 3, ..., 7, 7, 7], dtype=int32)"
      ]
     },
     "execution_count": 40,
     "metadata": {},
     "output_type": "execute_result"
    }
   ],
   "source": [
    "events"
   ]
  },
  {
   "cell_type": "code",
   "execution_count": 43,
   "id": "d4089e7d-bb21-4079-98c3-931b0eb35629",
   "metadata": {},
   "outputs": [
    {
     "data": {
      "text/plain": [
       "<scipy.io.netcdf.netcdf_variable at 0x1dbb8005040>"
      ]
     },
     "execution_count": 43,
     "metadata": {},
     "output_type": "execute_result"
    }
   ],
   "source": [
    "xar"
   ]
  },
  {
   "cell_type": "code",
   "execution_count": null,
   "id": "648a1fb2-175d-4fdd-b6e6-842f523cc2de",
   "metadata": {},
   "outputs": [],
   "source": []
  }
 ],
 "metadata": {
  "kernelspec": {
   "display_name": "Python 3 (ipykernel)",
   "language": "python",
   "name": "python3"
  },
  "language_info": {
   "codemirror_mode": {
    "name": "ipython",
    "version": 3
   },
   "file_extension": ".py",
   "mimetype": "text/x-python",
   "name": "python",
   "nbconvert_exporter": "python",
   "pygments_lexer": "ipython3",
   "version": "3.8.12"
  }
 },
 "nbformat": 4,
 "nbformat_minor": 5
}
