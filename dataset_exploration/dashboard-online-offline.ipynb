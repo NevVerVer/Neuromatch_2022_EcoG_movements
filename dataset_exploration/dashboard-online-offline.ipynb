{
 "cells": [
  {
   "cell_type": "markdown",
   "id": "7cde4f62-d671-47f1-ab8e-a523c783040c",
   "metadata": {
    "pycharm": {
     "name": "#%% md\n"
    }
   },
   "source": [
    "## ECoG and pose dataset\n",
    "\n",
    "*Falafel. NMA DeepLearning 2022*"
   ]
  },
  {
   "cell_type": "markdown",
   "id": "2dd843ef-4559-48b6-854a-dae715b4fe48",
   "metadata": {
    "pycharm": {
     "name": "#%% md\n"
    }
   },
   "source": [
    "paper - https://www.nature.com/articles/s41597-022-01280-y\n",
    "\n",
    "The data files are available on The DANDI Archive (https://doi.org/10.48324/dandi.000055/0.220127.0436)47, in the Neurodata Without Borders: Neurophysiology 2.0 (NWB:N) format43. All datastreams and metadata have been combined into a single file for each participant and day of recording, as indicated by the file name. For example, sub-01_ses-3_behavior+ecephys.nwb contains data from participant P01 on recording day 3. We used PyNWB 1.4.0 to load and interact with these data files. Table 1 shows the location of all main variables within each data file.\n",
    "\n",
    "Each file contains continuous ECoG and pose data over a 24-hour period, with units of and pixels, respectively. ECoG data is located under\\acquisition\\ElectricalSeries as a pynwb.ecephys.ElectricalSeries variable. Pose data can be found under\\processing\\behavior\\data_interfaces\\Position as an pynwb.behavior.Position variable. Pose data is provided for the left/right ear (L_Ear, R_Ear), shoulder (L_Shoulder, R_Shoulder), elbow (L_Elbow, R_Elbow), and wrist (L_Wrist, R_Wrist), as well as the nose (Nose).\n",
    "\n",
    "In addition to these core datastreams, each file contains relevant metadata. Contralateral wrist movement events are located in\\processing\\behavior\\data_interfaces\\ReachEvents as an ndx_events.events.Events variable. Quantitative neural and behavioral features for each event can be found in\\intervals\\reaches as a pynwb.epoch.TimeIntervals table with columns for each feature. Coarse behavioral labels are included in\\intervals\\epochs as a pynwb.epoch.TimeIntervals table. Each row contains the label along with the start and stop time in seconds.\n",
    "\n",
    "We also include electrode-specific metadata in\\electrodes as a hdmf.common.table.DynamicTable. Columns contain different metadata features, such as Montreal Neurological Institute (MNI) x, y, z coordinates and electrode group names. Electrode groups were named by clinicians based on their location in the brain. This table also contains the standard deviation, kurtosis, and median absolute deviation for each electrode computed over the entire recording file (excluding non-numeric values). Electrodes that we identified as noisy based on abnormal standard deviation and kurtosis are marked as False under the ‘good’ column. Table 2 shows the number of good electrodes that remain for each participant during the first available day of recording. We have also included the R2 scores obtained from regressing ECoG spectral power on the 10 quantitative event features for each participant’s wrist movement events18. Low-frequency power (used for low_freq_R2) indicates power between 8–32 Hz, while high-frequency power (used for high_freq_R2) denotes power between 76–100 Hz."
   ]
  },
  {
   "cell_type": "markdown",
   "id": "7156a899-111f-40ee-a1fd-4dc9f104a198",
   "metadata": {
    "pycharm": {
     "name": "#%% md\n"
    }
   },
   "source": [
    "## Streaming dataset data\n",
    "\n",
    "Example code from dataset creators: https://github.com/BruntonUWBio/ajile12-nwb-data/blob/main/stream_dashboard.ipynb\n",
    "\n",
    "Streaming from nwb tutorial:\n",
    "https://pynwb.readthedocs.io/en/stable/tutorials/advanced_io/streaming.html\n",
    "\n"
   ]
  },
  {
   "cell_type": "markdown",
   "id": "73d77153-3e47-442b-9230-11df8b9663bd",
   "metadata": {
    "pycharm": {
     "name": "#%% md\n"
    }
   },
   "source": [
    "### Attention\n",
    "**ros3 error:**\n",
    "```bash\n",
    "pip uninstall h5py\n",
    "\n",
    "conda install -c conda-forge h5py\n",
    "```\n",
    "**\"driver\" param not found error**\n",
    "```bash\n",
    "conda update pynwb\n",
    "```"
   ]
  },
  {
   "cell_type": "markdown",
   "id": "38dd74a0-f945-41d1-9d79-8265f59dbdd0",
   "metadata": {
    "pycharm": {
     "name": "#%% md\n"
    }
   },
   "source": [
    "#### Imports"
   ]
  },
  {
   "cell_type": "code",
   "execution_count": 4,
   "id": "a8028638-44b8-44c6-9e7c-226f6011ae41",
   "metadata": {
    "pycharm": {
     "name": "#%%\n"
    }
   },
   "outputs": [],
   "source": [
    "#!pip install git+https://github.com/catalystneuro/brunton-lab-to-nwb.git\n",
    "#!pip install nilearn\n",
    "#!pip install mne\n",
    "#!pin install dandi"
   ]
  },
  {
   "cell_type": "code",
   "execution_count": 1,
   "id": "b73cf3b7-2811-4c5e-a38f-bfdaf2373937",
   "metadata": {
    "pycharm": {
     "name": "#%%\n"
    }
   },
   "outputs": [
    {
     "name": "stdout",
     "output_type": "stream",
     "text": [
      "Importing modules...\n",
      "Module import successful.\n"
     ]
    }
   ],
   "source": [
    "print(\"Importing modules...\")\n",
    "\n",
    "# essentials\n",
    "import os\n",
    "import sys\n",
    "import time\n",
    "import warnings\n",
    "from tqdm import tqdm\n",
    "\n",
    "# science\n",
    "import numpy as np\n",
    "import pandas as pd\n",
    "import scipy as sp\n",
    "\n",
    "\n",
    "# for neural data\n",
    "import mne\n",
    "import nilearn\n",
    "from scipy import signal, stats\n",
    "\n",
    "# for nwb files and AJILE dataset\n",
    "from brunton_lab_to_nwb.brunton_widgets import BruntonDashboard\n",
    "from dandi.dandiapi import DandiAPIClient\n",
    "from pynwb import NWBHDF5IO\n",
    "\n",
    "import dandi\n",
    "\n",
    "# plotting\n",
    "import matplotlib.pyplot as plt\n",
    "import seaborn as sns\n",
    "\n",
    "from matplotlib import rc\n",
    "#rc('font',**{'family':'sans-serif'})\n",
    "#rc('text', usetex=True)\n",
    "#rc('text.latex',preamble=r'\\usepackage[utf8]{inputenc}')\n",
    "#rc('text.latex',preamble=r'\\usepackage[russian]{babel}')\n",
    "#rc('axes', **{'titlesize': '16', 'labelsize': '16'})\n",
    "#rc('legend', **{'fontsize': '16'})\n",
    "#rc('figure', **{'figsize': (12, 8)})\n",
    "\n",
    "warnings.filterwarnings(\"ignore\")\n",
    "print(\"Module import successful.\")"
   ]
  },
  {
   "cell_type": "code",
   "execution_count": 2,
   "id": "7f2f4b5d-c715-4aea-9032-e2077d4865aa",
   "metadata": {
    "pycharm": {
     "name": "#%%\n"
    }
   },
   "outputs": [],
   "source": [
    "sbj, session = 10, 3\n",
    "use_cloud_file = True\n",
    "\n",
    "fname = \"sub-{0:>02d}_ses-{1:.0f}_behavior+ecephys.nwb\".format(sbj, session)\n",
    "local_fpath = \"sub-{0:>02d}_ses-{1:.0f}_behavior+ecephys.nwb\".format(sbj, session)\n",
    "cloud_fpath = \"sub-{0:>02d}/sub-{0:>02d}_ses-{1:.0f}_behavior+ecephys.nwb\".format(sbj, session) \n",
    "\n"
   ]
  },
  {
   "cell_type": "code",
   "execution_count": 3,
   "id": "2b470634-f277-4ee1-978d-0f500b4ef851",
   "metadata": {
    "pycharm": {
     "name": "#%%\n"
    }
   },
   "outputs": [
    {
     "name": "stdout",
     "output_type": "stream",
     "text": [
      "Retrieving cloud file...\n"
     ]
    },
    {
     "name": "stderr",
     "output_type": "stream",
     "text": [
      "A newer version (0.45.1) of dandi/dandi-cli is available. You are using 0.44.1\n"
     ]
    },
    {
     "name": "stdout",
     "output_type": "stream",
     "text": [
      "Starting a Dandi streaming client...\n",
      "Reading a file...\n",
      "Returning nwb for sub-10_ses-3_behavior+ecephys.nwb\n"
     ]
    }
   ],
   "source": [
    "warnings.filterwarnings(\"ignore\")\n",
    "\n",
    "if use_cloud_file:\n",
    "    print(\"Retrieving cloud file...\")\n",
    "    with DandiAPIClient() as client:\n",
    "\n",
    "        print(\"Starting a Dandi streaming client...\")\n",
    "\n",
    "        asset = client.get_dandiset(\"000055\", \"draft\").get_asset_by_path(cloud_fpath)\n",
    "        s3_path = asset.get_content_url(follow_redirects=1, strip_query=True)\n",
    "\n",
    "    io = NWBHDF5IO(s3_path, mode='r', load_namespaces=True, driver='ros3')\n",
    "else:\n",
    "    print(\"Retrieving local file..\")\n",
    "    local_file_path = os.path.join(os.getcwd(), local_fpath)\n",
    "    io = NWBHDF5IO(local_file_path, mode='r', load_namespaces=False)\n",
    "    \n",
    "print(\"Reading a file...\")\n",
    "\n",
    "nwb = io.read()\n",
    "\n",
    "print(f\"Returning nwb for {fname}\")"
   ]
  },
  {
   "cell_type": "code",
   "execution_count": null,
   "id": "6011e429-beb7-4090-92f6-abe099599e2e",
   "metadata": {
    "pycharm": {
     "is_executing": true,
     "name": "#%%\n"
    }
   },
   "outputs": [],
   "source": [
    "# run to open a dashboard\n",
    "\n",
    "if use_cloud_file:\n",
    "    board = BruntonDashboard(nwb, tab1='stream')\n",
    "else:\n",
    "    board = BruntonDashboard(nwb, tab1='local')\n",
    "    \n",
    "board"
   ]
  }
 ],
 "metadata": {
  "kernelspec": {
   "display_name": "Python 3 (ipykernel)",
   "language": "python",
   "name": "python3"
  },
  "language_info": {
   "codemirror_mode": {
    "name": "ipython",
    "version": 3
   },
   "file_extension": ".py",
   "mimetype": "text/x-python",
   "name": "python",
   "nbconvert_exporter": "python",
   "pygments_lexer": "ipython3",
   "version": "3.8.12"
  }
 },
 "nbformat": 4,
 "nbformat_minor": 5
}
