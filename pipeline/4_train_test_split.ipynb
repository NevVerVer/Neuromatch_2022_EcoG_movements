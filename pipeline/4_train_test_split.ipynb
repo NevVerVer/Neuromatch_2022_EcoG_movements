{
 "cells": [
  {
   "cell_type": "code",
   "execution_count": 18,
   "metadata": {
    "collapsed": true,
    "pycharm": {
     "name": "#%%\n"
    }
   },
   "outputs": [],
   "source": [
    "from pathlib import Path\n",
    "import numpy as np\n",
    "import pandas as pd\n",
    "import torch\n",
    "from torch.utils.data import DataLoader\n",
    "import matplotlib.pylab as plt"
   ]
  },
  {
   "cell_type": "code",
   "execution_count": 3,
   "outputs": [],
   "source": [
    "root = Path(\n",
    "    \"/Volumes/GoogleDrive/My Drive/NMA-22/naturalistic_arm_movements_ecog/data\")\n",
    "\n",
    "roi_data = root / \"Naturalistic reach ECoG tfrs ROI\""
   ],
   "metadata": {
    "collapsed": false,
    "pycharm": {
     "name": "#%%\n"
    }
   }
  },
  {
   "cell_type": "code",
   "execution_count": 5,
   "outputs": [
    {
     "data": {
      "text/plain": "   day      time  event_timestamp     mvmt             vid_name  \\\n0    3   3520224          3520224  r_wrist  a0f66459_5_0500.avi   \n1    3   3584342          3584342  r_wrist  a0f66459_5_0501.avi   \n2    3  28768352         28768352  r_wrist  a0f66459_5_0711.avi   \n3    3  28853918         28853918  r_wrist  a0f66459_5_0711.avi   \n4    3  29639049         29639049  r_wrist  a0f66459_6_0000.avi   \n\n   event_frame_idx  false_pos patient_id  I_over_C_ratio  \\\n0             2206          0   a0f66459        0.029668   \n1              536          0   a0f66459        0.005848   \n2               73          0   a0f66459        0.039133   \n3             2640          0   a0f66459        0.030491   \n4              674          0   a0f66459        0.454378   \n\n                                           r_wrist_x  ...  \\\n0  [292.4933419228, 292.4933419228, 292.493341922...  ...   \n1  [288.1831774712, 288.1836948395, 288.183694839...  ...   \n2  [277.4298783541, 277.6194574833, 277.619457483...  ...   \n3  [279.3920893669, 279.3920893669, 279.392089366...  ...   \n4  [252.2575044632, 252.2575044632, 252.257504463...  ...   \n\n                                           l_wrist_y audio_ratio  \\\n0  [211.6673732102, 211.6988453865, 211.667373210...    0.173995   \n1  [208.3187561035, 208.3187561035, 208.318756103...    0.185332   \n2  [221.6612606049, 221.6737040281, 221.794342160...    0.365911   \n3  [222.3323924541, 222.3482117653, 222.35734725,...    0.501548   \n4  [228.3691136539, 228.3421618044, 228.038380678...    0.238979   \n\n  reach_duration     reach_r     reach_a  onset_velocity  other_reach_overlap  \\\n0             29   56.068108 -152.360333        3.133708                    0   \n1             29  120.020850 -103.292387        5.215469                    0   \n2             41   37.482779  147.428994        3.061077                    0   \n3             19   35.601992 -122.635080        2.163772                    0   \n4             24   94.181709  -56.404814        5.021071                   19   \n\n   bimanual  other_lead_lag  patient_index  \n0         0             NaN              0  \n1         0             NaN              0  \n2         0             NaN              0  \n3         0             NaN              0  \n4         1             3.0              0  \n\n[5 rows x 22 columns]",
      "text/html": "<div>\n<style scoped>\n    .dataframe tbody tr th:only-of-type {\n        vertical-align: middle;\n    }\n\n    .dataframe tbody tr th {\n        vertical-align: top;\n    }\n\n    .dataframe thead th {\n        text-align: right;\n    }\n</style>\n<table border=\"1\" class=\"dataframe\">\n  <thead>\n    <tr style=\"text-align: right;\">\n      <th></th>\n      <th>day</th>\n      <th>time</th>\n      <th>event_timestamp</th>\n      <th>mvmt</th>\n      <th>vid_name</th>\n      <th>event_frame_idx</th>\n      <th>false_pos</th>\n      <th>patient_id</th>\n      <th>I_over_C_ratio</th>\n      <th>r_wrist_x</th>\n      <th>...</th>\n      <th>l_wrist_y</th>\n      <th>audio_ratio</th>\n      <th>reach_duration</th>\n      <th>reach_r</th>\n      <th>reach_a</th>\n      <th>onset_velocity</th>\n      <th>other_reach_overlap</th>\n      <th>bimanual</th>\n      <th>other_lead_lag</th>\n      <th>patient_index</th>\n    </tr>\n  </thead>\n  <tbody>\n    <tr>\n      <th>0</th>\n      <td>3</td>\n      <td>3520224</td>\n      <td>3520224</td>\n      <td>r_wrist</td>\n      <td>a0f66459_5_0500.avi</td>\n      <td>2206</td>\n      <td>0</td>\n      <td>a0f66459</td>\n      <td>0.029668</td>\n      <td>[292.4933419228, 292.4933419228, 292.493341922...</td>\n      <td>...</td>\n      <td>[211.6673732102, 211.6988453865, 211.667373210...</td>\n      <td>0.173995</td>\n      <td>29</td>\n      <td>56.068108</td>\n      <td>-152.360333</td>\n      <td>3.133708</td>\n      <td>0</td>\n      <td>0</td>\n      <td>NaN</td>\n      <td>0</td>\n    </tr>\n    <tr>\n      <th>1</th>\n      <td>3</td>\n      <td>3584342</td>\n      <td>3584342</td>\n      <td>r_wrist</td>\n      <td>a0f66459_5_0501.avi</td>\n      <td>536</td>\n      <td>0</td>\n      <td>a0f66459</td>\n      <td>0.005848</td>\n      <td>[288.1831774712, 288.1836948395, 288.183694839...</td>\n      <td>...</td>\n      <td>[208.3187561035, 208.3187561035, 208.318756103...</td>\n      <td>0.185332</td>\n      <td>29</td>\n      <td>120.020850</td>\n      <td>-103.292387</td>\n      <td>5.215469</td>\n      <td>0</td>\n      <td>0</td>\n      <td>NaN</td>\n      <td>0</td>\n    </tr>\n    <tr>\n      <th>2</th>\n      <td>3</td>\n      <td>28768352</td>\n      <td>28768352</td>\n      <td>r_wrist</td>\n      <td>a0f66459_5_0711.avi</td>\n      <td>73</td>\n      <td>0</td>\n      <td>a0f66459</td>\n      <td>0.039133</td>\n      <td>[277.4298783541, 277.6194574833, 277.619457483...</td>\n      <td>...</td>\n      <td>[221.6612606049, 221.6737040281, 221.794342160...</td>\n      <td>0.365911</td>\n      <td>41</td>\n      <td>37.482779</td>\n      <td>147.428994</td>\n      <td>3.061077</td>\n      <td>0</td>\n      <td>0</td>\n      <td>NaN</td>\n      <td>0</td>\n    </tr>\n    <tr>\n      <th>3</th>\n      <td>3</td>\n      <td>28853918</td>\n      <td>28853918</td>\n      <td>r_wrist</td>\n      <td>a0f66459_5_0711.avi</td>\n      <td>2640</td>\n      <td>0</td>\n      <td>a0f66459</td>\n      <td>0.030491</td>\n      <td>[279.3920893669, 279.3920893669, 279.392089366...</td>\n      <td>...</td>\n      <td>[222.3323924541, 222.3482117653, 222.35734725,...</td>\n      <td>0.501548</td>\n      <td>19</td>\n      <td>35.601992</td>\n      <td>-122.635080</td>\n      <td>2.163772</td>\n      <td>0</td>\n      <td>0</td>\n      <td>NaN</td>\n      <td>0</td>\n    </tr>\n    <tr>\n      <th>4</th>\n      <td>3</td>\n      <td>29639049</td>\n      <td>29639049</td>\n      <td>r_wrist</td>\n      <td>a0f66459_6_0000.avi</td>\n      <td>674</td>\n      <td>0</td>\n      <td>a0f66459</td>\n      <td>0.454378</td>\n      <td>[252.2575044632, 252.2575044632, 252.257504463...</td>\n      <td>...</td>\n      <td>[228.3691136539, 228.3421618044, 228.038380678...</td>\n      <td>0.238979</td>\n      <td>24</td>\n      <td>94.181709</td>\n      <td>-56.404814</td>\n      <td>5.021071</td>\n      <td>19</td>\n      <td>1</td>\n      <td>3.0</td>\n      <td>0</td>\n    </tr>\n  </tbody>\n</table>\n<p>5 rows × 22 columns</p>\n</div>"
     },
     "execution_count": 5,
     "metadata": {},
     "output_type": "execute_result"
    }
   ],
   "source": [
    "metadata = pd.read_csv(roi_data / \"power-roi-all-patients-metadata.csv\", index_col=0)\n",
    "metadata.head()"
   ],
   "metadata": {
    "collapsed": false,
    "pycharm": {
     "name": "#%%\n"
    }
   }
  },
  {
   "cell_type": "code",
   "execution_count": 7,
   "outputs": [
    {
     "data": {
      "text/plain": "(5984, 8, 25, 91)"
     },
     "execution_count": 7,
     "metadata": {},
     "output_type": "execute_result"
    }
   ],
   "source": [
    "data = np.load(roi_data / \"power-roi-all-patients.npy\")\n",
    "data.shape"
   ],
   "metadata": {
    "collapsed": false,
    "pycharm": {
     "name": "#%%\n"
    }
   }
  },
  {
   "cell_type": "code",
   "execution_count": 9,
   "outputs": [
    {
     "name": "stdout",
     "output_type": "stream",
     "text": [
      "Random seed 2021 has been set.\n",
      "WARNING: For this notebook to perform best, if possible, in the menu under `Runtime` -> `Change runtime type.`  select `GPU` \n"
     ]
    },
    {
     "data": {
      "text/plain": "<torch._C.Generator at 0x7ff0ba02aa50>"
     },
     "execution_count": 9,
     "metadata": {},
     "output_type": "execute_result"
    }
   ],
   "source": [
    "# @title Set random seed\n",
    "\n",
    "# @markdown Executing `set_seed(seed=seed)` you are setting the seed\n",
    "\n",
    "# For DL its critical to set the random seed so that students can have a\n",
    "# baseline to compare their results to expected results.\n",
    "# Read more here: https://pytorch.org/docs/stable/notes/randomness.html\n",
    "\n",
    "# Call `set_seed` function in the exercises to ensure reproducibility.\n",
    "import random\n",
    "import torch\n",
    "\n",
    "def set_seed(seed=None, seed_torch=True):\n",
    "  \"\"\"\n",
    "  Function that controls randomness. NumPy and random modules must be imported.\n",
    "\n",
    "  Args:\n",
    "    seed : Integer\n",
    "      A non-negative integer that defines the random state. Default is `None`.\n",
    "    seed_torch : Boolean\n",
    "      If `True` sets the random seed for pytorch tensors, so pytorch module\n",
    "      must be imported. Default is `True`.\n",
    "\n",
    "  Returns:\n",
    "    Nothing.\n",
    "  \"\"\"\n",
    "  if seed is None:\n",
    "    seed = np.random.choice(2 ** 32)\n",
    "  random.seed(seed)\n",
    "  np.random.seed(seed)\n",
    "  if seed_torch:\n",
    "    torch.manual_seed(seed)\n",
    "    torch.cuda.manual_seed_all(seed)\n",
    "    torch.cuda.manual_seed(seed)\n",
    "    torch.backends.cudnn.benchmark = False\n",
    "    torch.backends.cudnn.deterministic = True\n",
    "\n",
    "  print(f'Random seed {seed} has been set.')\n",
    "\n",
    "\n",
    "# In case that `DataLoader` is used\n",
    "def seed_worker(worker_id):\n",
    "  \"\"\"\n",
    "  DataLoader will reseed workers following randomness in\n",
    "  multi-process data loading algorithm.\n",
    "\n",
    "  Args:\n",
    "    worker_id: integer\n",
    "      ID of subprocess to seed. 0 means that\n",
    "      the data will be loaded in the main process\n",
    "      Refer: https://pytorch.org/docs/stable/data.html#data-loading-randomness for more details\n",
    "\n",
    "  Returns:\n",
    "    Nothing\n",
    "  \"\"\"\n",
    "  worker_seed = torch.initial_seed() % 2**32\n",
    "  np.random.seed(worker_seed)\n",
    "  random.seed(worker_seed)\n",
    "\n",
    "\n",
    "# @title Set device (GPU or CPU). Execute `set_device()`\n",
    "# especially if torch modules used.\n",
    "\n",
    "# Inform the user if the notebook uses GPU or CPU.\n",
    "\n",
    "def set_device():\n",
    "  \"\"\"\n",
    "  Set the device. CUDA if available, CPU otherwise\n",
    "\n",
    "  Args:\n",
    "    None\n",
    "\n",
    "  Returns:\n",
    "    Nothing\n",
    "  \"\"\"\n",
    "  device = \"cuda\" if torch.cuda.is_available() else \"cpu\"\n",
    "  if device != \"cuda\":\n",
    "    print(\"WARNING: For this notebook to perform best, \"\n",
    "        \"if possible, in the menu under `Runtime` -> \"\n",
    "        \"`Change runtime type.`  select `GPU` \")\n",
    "  else:\n",
    "    print(\"GPU is enabled in this notebook.\")\n",
    "\n",
    "  return device\n",
    "\n",
    "SEED = 2021\n",
    "set_seed(seed=SEED)\n",
    "DEVICE = set_device()"
   ],
   "metadata": {
    "collapsed": false,
    "pycharm": {
     "name": "#%%\n"
    }
   }
  },
  {
   "cell_type": "code",
   "execution_count": 20,
   "outputs": [
    {
     "name": "stdout",
     "output_type": "stream",
     "text": [
      " X_train: (4835, 8, 25, 91) \n",
      " X_test:  (1149, 8, 25, 91) \n",
      " y_train: (4835,) \n",
      " y_test:  (1149,) \n"
     ]
    }
   ],
   "source": [
    "test_day = 3\n",
    "events = metadata.day.values\n",
    "labels = metadata.reach_a.values\n",
    "\n",
    "mask_train = (events != test_day)\n",
    "mask_test  = (events == test_day)\n",
    "\n",
    "X_train, y_train = data[mask_train, :, :], np.array(labels[mask_train] - 1)\n",
    "X_test, y_test = data[mask_test, :, :], np.array(labels[mask_test] - 1)\n",
    "\n",
    "print(f\" X_train: {X_train.shape} \\n X_test:  {X_test.shape} \\n y_train: {y_train.shape} \\n y_test:  {y_test.shape} \")"
   ],
   "metadata": {
    "collapsed": false,
    "pycharm": {
     "name": "#%%\n"
    }
   }
  },
  {
   "cell_type": "code",
   "execution_count": null,
   "outputs": [],
   "source": [
    "g_seed = torch.Generator()\n",
    "g_seed.manual_seed(SEED)\n",
    "\n",
    "n_rio = data.shape[1]\n",
    "n_freqs = data.shape[2]\n",
    "n_samples = data.shape[3]\n",
    "\n",
    "X_train = torch.tensor(X_train).float()\n",
    "X_test = torch.tensor(X_test).float()\n",
    "\n",
    "y_train = torch.tensor(y_train).float()\n",
    "y_test = torch.tensor(y_test).float()\n",
    "\n",
    "train_loader = DataLoader(list(zip(X_train, y_train)),\n",
    "                          batch_size=8,\n",
    "                          shuffle=True,\n",
    "                          worker_init_fn=seed_worker,\n",
    "                          generator=g_seed)\n",
    "test_loader = DataLoader(list(zip(X_test, y_test)),\n",
    "                         batch_size=8,\n",
    "                         shuffle=True,\n",
    "                         worker_init_fn=seed_worker,\n",
    "                         generator=g_seed)\n",
    "\n",
    "print(\n",
    "    f\" X_train: {X_train.shape} \\n X_test:  {X_test.shape} \\n y_train: {y_train.shape} \\n y_test:  {y_test.shape} \")"
   ],
   "metadata": {
    "collapsed": false,
    "pycharm": {
     "name": "#%%\n",
     "is_executing": true
    }
   }
  },
  {
   "cell_type": "code",
   "execution_count": null,
   "outputs": [],
   "source": [],
   "metadata": {
    "collapsed": false,
    "pycharm": {
     "name": "#%%\n"
    }
   }
  }
 ],
 "metadata": {
  "kernelspec": {
   "display_name": "Python 3",
   "language": "python",
   "name": "python3"
  },
  "language_info": {
   "codemirror_mode": {
    "name": "ipython",
    "version": 2
   },
   "file_extension": ".py",
   "mimetype": "text/x-python",
   "name": "python",
   "nbconvert_exporter": "python",
   "pygments_lexer": "ipython2",
   "version": "2.7.6"
  }
 },
 "nbformat": 4,
 "nbformat_minor": 0
}