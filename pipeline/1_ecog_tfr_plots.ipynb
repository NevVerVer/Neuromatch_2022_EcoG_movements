{
 "cells": [
  {
   "cell_type": "code",
   "execution_count": 7,
   "outputs": [],
   "source": [
    "from pynwb import NWBHDF5IO\n",
    "from dandi.dandiapi import DandiAPIClient\n",
    "import numpy as np\n",
    "import mne\n",
    "from pipeline.utils import make_mne_epochs, make_epochs_tfr"
   ],
   "metadata": {
    "collapsed": false,
    "pycharm": {
     "name": "#%%\n"
    }
   }
  },
  {
   "cell_type": "code",
   "execution_count": null,
   "outputs": [],
   "source": [
    "sbj, session = 9, 3\n",
    "\n",
    "fname = \"sub-{0:>02d}_ses-{1:.0f}_behavior+ecephys.nwb\".format(sbj, session)\n",
    "\n",
    "cloud_fpath = \"sub-{0:>02d}/sub-{0:>02d}_ses-{1:.0f}_behavior+ecephys.nwb\".format(sbj, session)\n",
    "print(\"Retrieving cloud file...\")\n",
    "with DandiAPIClient() as client:\n",
    "\n",
    "    print(\"Starting a Dandi streaming client...\")\n",
    "\n",
    "    asset = client.get_dandiset(\"000055\", \"draft\").get_asset_by_path(cloud_fpath)\n",
    "    s3_path = asset.get_content_url(follow_redirects=1, strip_query=True)\n",
    "\n",
    "io = NWBHDF5IO(s3_path, mode='r', load_namespaces=True, driver='ros3')\n",
    "nwb = io.read()"
   ],
   "metadata": {
    "collapsed": false,
    "pycharm": {
     "name": "#%%\n",
     "is_executing": true
    }
   }
  },
  {
   "cell_type": "code",
   "execution_count": null,
   "metadata": {
    "collapsed": true,
    "pycharm": {
     "name": "#%%\n",
     "is_executing": true
    }
   },
   "outputs": [
    {
     "name": "stdout",
     "output_type": "stream",
     "text": [
      "Neural data shape:  (43200000, 126)\n",
      "Sampling rate:  500.0\n"
     ]
    }
   ],
   "source": [
    "neural_data = nwb.acquisition['ElectricalSeries'].data\n",
    "\n",
    "print(\"Neural data shape: \", neural_data.shape)\n",
    "n_times, n_chan = neural_data.shape\n",
    "SF = nwb.acquisition['ElectricalSeries'].rate\n",
    "print(\"Sampling rate: \", SF)\n",
    "\n",
    "info = mne.create_info(n_chan, sfreq=SF)\n",
    "\n",
    "\n",
    "mne_data_chunk = mne.io.RawArray(neural_data[:].reshape(n_chan, -1), info)"
   ]
  },
  {
   "cell_type": "code",
   "execution_count": 10,
   "outputs": [
    {
     "name": "stdout",
     "output_type": "stream",
     "text": [
      "N trials:  0\n"
     ]
    }
   ],
   "source": [
    "trials = np.array(nwb.intervals['reaches']['start_time'].data) * SF\n",
    "trials = trials[(trials > SF * 2) & (trials < SF * 2)]\n",
    "print(\"N trials: \", len(trials))"
   ],
   "metadata": {
    "collapsed": false,
    "pycharm": {
     "name": "#%%\n"
    }
   }
  },
  {
   "cell_type": "code",
   "execution_count": 14,
   "outputs": [
    {
     "data": {
      "text/plain": "array([24077.1  , 24262.754, 34223.493, 34267.593, 39710.516, 41278.43 ,\n       62912.246, 62953.313, 63344.012, 63620.388, 63626.255, 72038.407,\n       72606.914, 73310.556, 75959.187])"
     },
     "execution_count": 14,
     "metadata": {},
     "output_type": "execute_result"
    }
   ],
   "source": [
    "epochs = make_mne_epochs(mne_data_chunk, trials, -0.5, 1.5)\n",
    "epochs.info"
   ],
   "metadata": {
    "collapsed": false,
    "pycharm": {
     "name": "#%%\n"
    }
   }
  },
  {
   "cell_type": "code",
   "execution_count": null,
   "outputs": [],
   "source": [
    "epochs_tfr = make_epochs_tfr(epochs)\n",
    "epochs_tfr.info"
   ],
   "metadata": {
    "collapsed": false,
    "pycharm": {
     "name": "#%%\n",
     "is_executing": true
    }
   }
  },
  {
   "cell_type": "code",
   "execution_count": null,
   "outputs": [],
   "source": [
    "avgpower = epochs_tfr.average()\n",
    "avgpower.plot(title=\"Average power\")"
   ],
   "metadata": {
    "collapsed": false,
    "pycharm": {
     "name": "#%%\n"
    }
   }
  }
 ],
 "metadata": {
  "kernelspec": {
   "display_name": "Python 3",
   "language": "python",
   "name": "python3"
  },
  "language_info": {
   "codemirror_mode": {
    "name": "ipython",
    "version": 2
   },
   "file_extension": ".py",
   "mimetype": "text/x-python",
   "name": "python",
   "nbconvert_exporter": "python",
   "pygments_lexer": "ipython2",
   "version": "2.7.6"
  }
 },
 "nbformat": 4,
 "nbformat_minor": 0
}