{
 "cells": [
  {
   "cell_type": "code",
   "execution_count": 1,
   "metadata": {
    "pycharm": {
     "name": "#%%\n"
    }
   },
   "outputs": [],
   "source": [
    "from pynwb import NWBHDF5IO\n",
    "from brunton_lab_to_nwb.brunton_widgets import BruntonDashboard\n",
    "\n",
    "# Install form this git repo:\n",
    "# %pip install git+https://github.com/BruntonUWBio/ajile12-nwb-data.git"
   ]
  },
  {
   "cell_type": "markdown",
   "source": [
    "Replace `align_by_times_with_rate` with `align_by_times` in `burton_widgets.py` source file if you have an error."
   ],
   "metadata": {
    "collapsed": false,
    "pycharm": {
     "name": "#%% md\n"
    }
   }
  },
  {
   "cell_type": "code",
   "execution_count": null,
   "outputs": [],
   "source": [
    "local_file_path = '/data/sub-04_ses-3_behavior+ecephys.nwb'\n",
    "io = NWBHDF5IO(local_file_path, mode='r', load_namespaces=False)\n",
    "nwb = io.read()"
   ],
   "metadata": {
    "collapsed": false,
    "pycharm": {
     "name": "#%%\n"
    }
   }
  },
  {
   "cell_type": "code",
   "execution_count": null,
   "outputs": [],
   "source": [
    "BruntonDashboard(nwb, 'local')"
   ],
   "metadata": {
    "collapsed": false,
    "pycharm": {
     "name": "#%%\n"
    }
   }
  }
 ],
 "metadata": {
  "kernelspec": {
   "display_name": "Python 3 (ipykernel)",
   "language": "python",
   "name": "python3"
  },
  "language_info": {
   "codemirror_mode": {
    "name": "ipython",
    "version": 3
   },
   "file_extension": ".py",
   "mimetype": "text/x-python",
   "name": "python",
   "nbconvert_exporter": "python",
   "pygments_lexer": "ipython3",
   "version": "3.8.13"
  }
 },
 "nbformat": 4,
 "nbformat_minor": 4
}