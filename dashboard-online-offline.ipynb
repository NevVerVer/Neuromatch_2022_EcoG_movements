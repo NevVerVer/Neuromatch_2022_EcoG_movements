{
 "cells": [
  {
   "cell_type": "markdown",
   "id": "7cde4f62-d671-47f1-ab8e-a523c783040c",
   "metadata": {},
   "source": [
    "## ECoG and pose dataset\n",
    "\n",
    "*Falafel. NMA DeepLearning 2022*"
   ]
  },
  {
   "cell_type": "markdown",
   "id": "2dd843ef-4559-48b6-854a-dae715b4fe48",
   "metadata": {},
   "source": [
    "paper - https://www.nature.com/articles/s41597-022-01280-y\n",
    "\n",
    "The data files are available on The DANDI Archive (https://doi.org/10.48324/dandi.000055/0.220127.0436)47, in the Neurodata Without Borders: Neurophysiology 2.0 (NWB:N) format43. All datastreams and metadata have been combined into a single file for each participant and day of recording, as indicated by the file name. For example, sub-01_ses-3_behavior+ecephys.nwb contains data from participant P01 on recording day 3. We used PyNWB 1.4.0 to load and interact with these data files. Table 1 shows the location of all main variables within each data file.\n",
    "\n",
    "Each file contains continuous ECoG and pose data over a 24-hour period, with units of and pixels, respectively. ECoG data is located under\\acquisition\\ElectricalSeries as a pynwb.ecephys.ElectricalSeries variable. Pose data can be found under\\processing\\behavior\\data_interfaces\\Position as an pynwb.behavior.Position variable. Pose data is provided for the left/right ear (L_Ear, R_Ear), shoulder (L_Shoulder, R_Shoulder), elbow (L_Elbow, R_Elbow), and wrist (L_Wrist, R_Wrist), as well as the nose (Nose).\n",
    "\n",
    "In addition to these core datastreams, each file contains relevant metadata. Contralateral wrist movement events are located in\\processing\\behavior\\data_interfaces\\ReachEvents as an ndx_events.events.Events variable. Quantitative neural and behavioral features for each event can be found in\\intervals\\reaches as a pynwb.epoch.TimeIntervals table with columns for each feature. Coarse behavioral labels are included in\\intervals\\epochs as a pynwb.epoch.TimeIntervals table. Each row contains the label along with the start and stop time in seconds.\n",
    "\n",
    "We also include electrode-specific metadata in\\electrodes as a hdmf.common.table.DynamicTable. Columns contain different metadata features, such as Montreal Neurological Institute (MNI) x, y, z coordinates and electrode group names. Electrode groups were named by clinicians based on their location in the brain. This table also contains the standard deviation, kurtosis, and median absolute deviation for each electrode computed over the entire recording file (excluding non-numeric values). Electrodes that we identified as noisy based on abnormal standard deviation and kurtosis are marked as False under the ‘good’ column. Table 2 shows the number of good electrodes that remain for each participant during the first available day of recording. We have also included the R2 scores obtained from regressing ECoG spectral power on the 10 quantitative event features for each participant’s wrist movement events18. Low-frequency power (used for low_freq_R2) indicates power between 8–32 Hz, while high-frequency power (used for high_freq_R2) denotes power between 76–100 Hz."
   ]
  },
  {
   "cell_type": "markdown",
   "id": "7156a899-111f-40ee-a1fd-4dc9f104a198",
   "metadata": {},
   "source": [
    "## Streaming dataset data\n",
    "\n",
    "Example code from dataset creators: https://github.com/BruntonUWBio/ajile12-nwb-data/blob/main/stream_dashboard.ipynb\n",
    "\n",
    "Streaming from nwb tutorial:\n",
    "https://pynwb.readthedocs.io/en/stable/tutorials/advanced_io/streaming.html\n",
    "\n"
   ]
  },
  {
   "cell_type": "markdown",
   "id": "73d77153-3e47-442b-9230-11df8b9663bd",
   "metadata": {},
   "source": [
    "### Attention\n",
    "**ros3 error:**\n",
    "\n",
    "pip unistall h5py\n",
    "\n",
    "conda install -c conda-forge h5py\n",
    "\n",
    "**\"driver\" param not found error**\n",
    "\n",
    "conda update pynwb"
   ]
  },
  {
   "cell_type": "markdown",
   "id": "38dd74a0-f945-41d1-9d79-8265f59dbdd0",
   "metadata": {},
   "source": [
    "#### Imports"
   ]
  },
  {
   "cell_type": "code",
   "execution_count": 4,
   "id": "a8028638-44b8-44c6-9e7c-226f6011ae41",
   "metadata": {},
   "outputs": [],
   "source": [
    "#!pip install git+https://github.com/catalystneuro/brunton-lab-to-nwb.git\n",
    "#!pip install nilearn\n",
    "#!pip install mne\n",
    "#!pin install dandi"
   ]
  },
  {
   "cell_type": "code",
   "execution_count": 26,
   "id": "b73cf3b7-2811-4c5e-a38f-bfdaf2373937",
   "metadata": {},
   "outputs": [
    {
     "name": "stdout",
     "output_type": "stream",
     "text": [
      "Importing modules...\n",
      "Module import successful.\n"
     ]
    }
   ],
   "source": [
    "print(\"Importing modules...\")\n",
    "\n",
    "# essentials\n",
    "import os\n",
    "import sys\n",
    "import time\n",
    "import warnings\n",
    "from tqdm import tqdm\n",
    "\n",
    "# science\n",
    "import numpy as np\n",
    "import pandas as pd\n",
    "import scipy as sp\n",
    "\n",
    "\n",
    "# for neural data\n",
    "import mne\n",
    "import nilearn\n",
    "from scipy import signal, stats\n",
    "\n",
    "# for nwb files and AJILE dataset\n",
    "from brunton_lab_to_nwb.brunton_widgets import BruntonDashboard\n",
    "from dandi.dandiapi import DandiAPIClient\n",
    "from pynwb import NWBHDF5IO\n",
    "\n",
    "import dandi\n",
    "\n",
    "# plotting\n",
    "import matplotlib.pyplot as plt\n",
    "import seaborn as sns\n",
    "\n",
    "from matplotlib import rc\n",
    "#rc('font',**{'family':'sans-serif'})\n",
    "#rc('text', usetex=True)\n",
    "#rc('text.latex',preamble=r'\\usepackage[utf8]{inputenc}')\n",
    "#rc('text.latex',preamble=r'\\usepackage[russian]{babel}')\n",
    "#rc('axes', **{'titlesize': '16', 'labelsize': '16'})\n",
    "#rc('legend', **{'fontsize': '16'})\n",
    "#rc('figure', **{'figsize': (12, 8)})\n",
    "\n",
    "warnings.filterwarnings(\"ignore\")\n",
    "print(\"Module import successful.\")"
   ]
  },
  {
   "cell_type": "code",
   "execution_count": 27,
   "id": "7f2f4b5d-c715-4aea-9032-e2077d4865aa",
   "metadata": {},
   "outputs": [],
   "source": [
    "sbj, session = 9, 3\n",
    "use_cloud_file = True\n",
    "\n",
    "fname = \"sub-{0:>02d}_ses-{1:.0f}_behavior+ecephys.nwb\".format(sbj, session)\n",
    "local_fpath = \"sub-{0:>02d}_ses-{1:.0f}_behavior+ecephys.nwb\".format(sbj, session)\n",
    "cloud_fpath = \"sub-{0:>02d}/sub-{0:>02d}_ses-{1:.0f}_behavior+ecephys.nwb\".format(sbj, session) \n",
    "\n"
   ]
  },
  {
   "cell_type": "code",
   "execution_count": 28,
   "id": "2b470634-f277-4ee1-978d-0f500b4ef851",
   "metadata": {},
   "outputs": [
    {
     "name": "stdout",
     "output_type": "stream",
     "text": [
      "Retrieving cloud file...\n",
      "Starting a Dandi streaming client...\n",
      "Reading a file...\n",
      "Returning nwb for sub-04/sub-04_ses-3_behavior+ecephys.nwb\n"
     ]
    }
   ],
   "source": [
    "warnings.filterwarnings(\"ignore\")\n",
    "\n",
    "if use_cloud_file:\n",
    "    print(\"Retrieving cloud file...\")\n",
    "    with DandiAPIClient() as client:\n",
    "\n",
    "        print(\"Starting a Dandi streaming client...\")\n",
    "\n",
    "        asset = client.get_dandiset(\"000055\", \"draft\").get_asset_by_path(cloud_fpath)\n",
    "        s3_path = asset.get_content_url(follow_redirects=1, strip_query=True)\n",
    "\n",
    "    io = NWBHDF5IO(s3_path, mode='r', load_namespaces=True, driver='ros3')\n",
    "else:\n",
    "    print(\"Retrieving local file..\")\n",
    "    io = NWBHDF5IO(local_file_path, mode='r', load_namespaces=False)\n",
    "    \n",
    "print(\"Reading a file...\")\n",
    "\n",
    "nwb = io.read()\n",
    "\n",
    "print(f\"Returning nwb for {fname}\")"
   ]
  },
  {
   "cell_type": "code",
   "execution_count": 30,
   "id": "6011e429-beb7-4090-92f6-abe099599e2e",
   "metadata": {},
   "outputs": [
    {
     "data": {
      "application/vnd.jupyter.widget-view+json": {
       "model_id": "49bd4febcef74b9098435dd9801444e7",
       "version_major": 2,
       "version_minor": 0
      },
      "text/plain": [
       "BruntonDashboard(children=(Accordion(children=(Tab(children=(VBox(children=(HBox(children=(StartAndDurationCon…"
      ]
     },
     "metadata": {},
     "output_type": "display_data"
    }
   ],
   "source": [
    "# run to open a dashboard\n",
    "\n",
    "if use_cloud_file:\n",
    "    board = BruntonDashboard(nwb, tab1='stream')\n",
    "else:\n",
    "    board = BruntonDashboard(nwb, tab1='local')\n",
    "    \n",
    "board"
   ]
  },
  {
   "cell_type": "markdown",
   "id": "a2562b13-7b7a-46ed-ab36-7fcaa5ad6cfb",
   "metadata": {},
   "source": []
  },
  {
   "cell_type": "code",
   "execution_count": 6,
   "id": "b8a7a39e-fcff-403a-b41a-9773c52b96d8",
   "metadata": {},
   "outputs": [
    {
     "name": "stdout",
     "output_type": "stream",
     "text": [
      "Neural data shape:  (43200000, 94)\n",
      "Sampling rate:  500.0\n",
      "Creating RawArray with float64 data, n_channels=94, n_times=50000\n",
      "    Range : 0 ... 49999 =      0.000 ...    99.998 secs\n",
      "Ready.\n"
     ]
    }
   ],
   "source": [
    "neural_data = nwb.acquisition['ElectricalSeries'].data\n",
    "\n",
    "print(\"Neural data shape: \", neural_data.shape)\n",
    "n_times, n_chan = neural_data.shape\n",
    "SF = nwb.acquisition['ElectricalSeries'].rate\n",
    "print(\"Sampling rate: \", SF)\n",
    "\n",
    "info = mne.create_info(n_chan, sfreq=SF)\n",
    "\n",
    "max_time = 100 #sec\n",
    "mne_data_chunk = mne.io.RawArray(neural_data[:int(max_time * SF)].reshape(n_chan, -1), info)"
   ]
  },
  {
   "cell_type": "code",
   "execution_count": 23,
   "id": "9690a12b-318c-4e42-a08b-52e63a3b3aa1",
   "metadata": {},
   "outputs": [
    {
     "name": "stdout",
     "output_type": "stream",
     "text": [
      "196\n"
     ]
    }
   ],
   "source": [
    "print(len(list(nwb.processing['behavior']['ReachEvents'].timestamps)))"
   ]
  },
  {
   "cell_type": "markdown",
   "id": "19db50d2-4fed-4535-b7f9-4749fdeacfe9",
   "metadata": {},
   "source": [
    "### Reach durations"
   ]
  },
  {
   "cell_type": "code",
   "execution_count": 24,
   "id": "4df1f8e7-ab55-4b0b-80f1-de14f9c826e9",
   "metadata": {},
   "outputs": [
    {
     "data": {
      "text/plain": [
       "(array([34., 57., 42., 26., 20.,  5.,  6.,  2.,  3.,  1.]),\n",
       " array([0.33333333, 0.69333333, 1.05333333, 1.41333333, 1.77333333,\n",
       "        2.13333333, 2.49333333, 2.85333333, 3.21333333, 3.57333333,\n",
       "        3.93333333]),\n",
       " <BarContainer object of 10 artists>)"
      ]
     },
     "execution_count": 24,
     "metadata": {},
     "output_type": "execute_result"
    },
    {
     "data": {
      "image/png": "[encoded data removed]",
      "text/plain": [
       "<Figure size 864x576 with 1 Axes>"
      ]
     },
     "metadata": {
      "needs_background": "light"
     },
     "output_type": "display_data"
    }
   ],
   "source": [
    "plt.hist(np.array(nwb.intervals['reaches']['stop_time'].data) - np.array(nwb.intervals['reaches']['start_time'].data))"
   ]
  },
  {
   "cell_type": "code",
   "execution_count": 17,
   "id": "8b820d25-a22b-4560-8396-7a8f47cd0802",
   "metadata": {},
   "outputs": [
    {
     "data": {
      "text/plain": [
       "[1547.9360000000001,\n",
       " 1582.536,\n",
       " 1729.789,\n",
       " 18824.944,\n",
       " 19044.261000000002,\n",
       " 19274.771,\n",
       " 19318.033,\n",
       " 19367.833,\n",
       " 19747.358,\n",
       " 24008.147999999997,\n",
       " 24128.882999999998,\n",
       " 24176.816000000003,\n",
       " 24198.749,\n",
       " 29720.949,\n",
       " 29875.78,\n",
       " 29948.214,\n",
       " 30359.139,\n",
       " 31453.491,\n",
       " 31721.914,\n",
       " 31731.38,\n",
       " 34572.8,\n",
       " 35858.773,\n",
       " 35867.373,\n",
       " 35886.84,\n",
       " 35920.573,\n",
       " 35964.163,\n",
       " 37231.216,\n",
       " 37348.902,\n",
       " 39565.312999999995,\n",
       " 40310.274,\n",
       " 40392.241,\n",
       " 40494.696,\n",
       " 40776.739,\n",
       " 40922.818999999996,\n",
       " 40989.119,\n",
       " 40994.419,\n",
       " 42049.710999999996,\n",
       " 42467.5,\n",
       " 43015.389,\n",
       " 43749.876,\n",
       " 43791.239,\n",
       " 43863.873,\n",
       " 43968.528,\n",
       " 44071.643,\n",
       " 44345.364,\n",
       " 44704.39,\n",
       " 45432.181,\n",
       " 45600.865999999995,\n",
       " 46082.59,\n",
       " 46089.39,\n",
       " 46314.062999999995,\n",
       " 46586.200999999994,\n",
       " 46589.600999999995,\n",
       " 46686.922999999995,\n",
       " 46705.857,\n",
       " 46726.257000000005,\n",
       " 46731.157,\n",
       " 46755.057,\n",
       " 46761.42,\n",
       " 46769.754,\n",
       " 46807.42,\n",
       " 46815.32,\n",
       " 47707.404,\n",
       " 48496.52,\n",
       " 48723.973,\n",
       " 48930.577000000005,\n",
       " 49023.644,\n",
       " 49050.664000000004,\n",
       " 49695.807,\n",
       " 49797.428,\n",
       " 49978.648,\n",
       " 50157.899000000005,\n",
       " 50242.117999999995,\n",
       " 50367.473,\n",
       " 50613.977,\n",
       " 50623.177,\n",
       " 51000.581,\n",
       " 51055.181,\n",
       " 51096.269,\n",
       " 51178.435,\n",
       " 51227.522000000004,\n",
       " 51241.522000000004,\n",
       " 51691.444,\n",
       " 51808.497,\n",
       " 52655.389,\n",
       " 52925.785,\n",
       " 53032.705,\n",
       " 54138.724,\n",
       " 54179.757000000005,\n",
       " 54223.907999999996,\n",
       " 54431.194,\n",
       " 54480.285,\n",
       " 54493.419,\n",
       " 54522.152,\n",
       " 54651.568,\n",
       " 54664.03400000001,\n",
       " 54698.064000000006,\n",
       " 54797.518,\n",
       " 54800.918,\n",
       " 54924.253,\n",
       " 54938.753,\n",
       " 54976.119000000006,\n",
       " 55024.886,\n",
       " 55078.49,\n",
       " 55217.043,\n",
       " 55255.643,\n",
       " 55440.494000000006,\n",
       " 55489.060999999994,\n",
       " 55863.154,\n",
       " 56340.245,\n",
       " 56451.3,\n",
       " 56684.316,\n",
       " 56933.820999999996,\n",
       " 56968.640999999996,\n",
       " 56994.474,\n",
       " 57061.441,\n",
       " 57319.312999999995,\n",
       " 57339.513,\n",
       " 57364.68,\n",
       " 57396.812999999995,\n",
       " 58193.23,\n",
       " 58230.462999999996,\n",
       " 58510.935999999994,\n",
       " 58570.49,\n",
       " 58585.79,\n",
       " 58609.123,\n",
       " 58715.252,\n",
       " 58900.327000000005,\n",
       " 59097.280999999995,\n",
       " 59160.399000000005,\n",
       " 59519.003,\n",
       " 59576.07,\n",
       " 60056.861,\n",
       " 60586.655999999995,\n",
       " 60733.09,\n",
       " 61011.596,\n",
       " 61029.23,\n",
       " 61197.137,\n",
       " 61201.937000000005,\n",
       " 61230.904,\n",
       " 61251.037000000004,\n",
       " 61289.133,\n",
       " 62054.664000000004,\n",
       " 62144.249,\n",
       " 62154.749,\n",
       " 62160.715,\n",
       " 62246.633,\n",
       " 62319.032999999996,\n",
       " 62378.189000000006,\n",
       " 62467.922,\n",
       " 62565.809,\n",
       " 62872.645,\n",
       " 63387.17,\n",
       " 63399.27,\n",
       " 63737.319,\n",
       " 63749.452000000005,\n",
       " 63971.847,\n",
       " 63994.613,\n",
       " 64023.08,\n",
       " 64320.373,\n",
       " 64324.172999999995,\n",
       " 64407.96,\n",
       " 64958.883,\n",
       " 65146.257000000005,\n",
       " 65748.701,\n",
       " 65896.218,\n",
       " 65900.318,\n",
       " 66400.609,\n",
       " 68093.587,\n",
       " 68727.018,\n",
       " 69129.519,\n",
       " 70111.424,\n",
       " 70324.59599999999,\n",
       " 70344.563,\n",
       " 73496.306,\n",
       " 73521.058,\n",
       " 73623.825,\n",
       " 73719.145,\n",
       " 73721.145,\n",
       " 73750.578,\n",
       " 73770.167,\n",
       " 73850.834,\n",
       " 73861.1,\n",
       " 73883.395,\n",
       " 73900.462,\n",
       " 74097.25,\n",
       " 75026.246,\n",
       " 75817.414,\n",
       " 75836.647,\n",
       " 75861.547,\n",
       " 76377.12599999999,\n",
       " 78449.495,\n",
       " 83462.849,\n",
       " 84450.259,\n",
       " 84454.12599999999,\n",
       " 84793.565]"
      ]
     },
     "execution_count": 17,
     "metadata": {},
     "output_type": "execute_result"
    }
   ],
   "source": [
    "list(nwb.intervals['reaches']['start_time'].data)"
   ]
  },
  {
   "cell_type": "code",
   "execution_count": 18,
   "id": "4b4d1ca5-323d-48b3-9caf-a42d6f874466",
   "metadata": {},
   "outputs": [],
   "source": [
    "coarse_labels = nwb.intervals['epochs'].to_dataframe()"
   ]
  },
  {
   "cell_type": "code",
   "execution_count": 22,
   "id": "3a64336b-d50f-442b-843b-2cc946ce5715",
   "metadata": {},
   "outputs": [
    {
     "data": {
      "text/html": [
       "<div>\n",
       "<style scoped>\n",
       "    .dataframe tbody tr th:only-of-type {\n",
       "        vertical-align: middle;\n",
       "    }\n",
       "\n",
       "    .dataframe tbody tr th {\n",
       "        vertical-align: top;\n",
       "    }\n",
       "\n",
       "    .dataframe thead th {\n",
       "        text-align: right;\n",
       "    }\n",
       "</style>\n",
       "<table border=\"1\" class=\"dataframe\">\n",
       "  <thead>\n",
       "    <tr style=\"text-align: right;\">\n",
       "      <th></th>\n",
       "      <th>start_time</th>\n",
       "      <th>stop_time</th>\n",
       "    </tr>\n",
       "    <tr>\n",
       "      <th>labels</th>\n",
       "      <th></th>\n",
       "      <th></th>\n",
       "    </tr>\n",
       "  </thead>\n",
       "  <tbody>\n",
       "    <tr>\n",
       "      <th>Blocklist (Camera move/zoom)</th>\n",
       "      <td>7</td>\n",
       "      <td>7</td>\n",
       "    </tr>\n",
       "    <tr>\n",
       "      <th>Blocklist (Clinical procedure)</th>\n",
       "      <td>2</td>\n",
       "      <td>2</td>\n",
       "    </tr>\n",
       "    <tr>\n",
       "      <th>Blocklist (Data break)</th>\n",
       "      <td>716</td>\n",
       "      <td>716</td>\n",
       "    </tr>\n",
       "    <tr>\n",
       "      <th>Blocklist (Private time)</th>\n",
       "      <td>19</td>\n",
       "      <td>19</td>\n",
       "    </tr>\n",
       "    <tr>\n",
       "      <th>Blocklist (Tether/bandage)</th>\n",
       "      <td>9</td>\n",
       "      <td>9</td>\n",
       "    </tr>\n",
       "    <tr>\n",
       "      <th>Computer/phone</th>\n",
       "      <td>99</td>\n",
       "      <td>99</td>\n",
       "    </tr>\n",
       "    <tr>\n",
       "      <th>Eat, Computer/phone</th>\n",
       "      <td>1</td>\n",
       "      <td>1</td>\n",
       "    </tr>\n",
       "    <tr>\n",
       "      <th>Eat, TV</th>\n",
       "      <td>7</td>\n",
       "      <td>7</td>\n",
       "    </tr>\n",
       "    <tr>\n",
       "      <th>Eat, Talk</th>\n",
       "      <td>17</td>\n",
       "      <td>17</td>\n",
       "    </tr>\n",
       "    <tr>\n",
       "      <th>Inactive</th>\n",
       "      <td>20</td>\n",
       "      <td>20</td>\n",
       "    </tr>\n",
       "    <tr>\n",
       "      <th>Other activity</th>\n",
       "      <td>13</td>\n",
       "      <td>13</td>\n",
       "    </tr>\n",
       "    <tr>\n",
       "      <th>Sleep/rest</th>\n",
       "      <td>253</td>\n",
       "      <td>253</td>\n",
       "    </tr>\n",
       "    <tr>\n",
       "      <th>TV</th>\n",
       "      <td>128</td>\n",
       "      <td>128</td>\n",
       "    </tr>\n",
       "    <tr>\n",
       "      <th>Talk</th>\n",
       "      <td>121</td>\n",
       "      <td>121</td>\n",
       "    </tr>\n",
       "    <tr>\n",
       "      <th>Talk, Computer/phone</th>\n",
       "      <td>4</td>\n",
       "      <td>4</td>\n",
       "    </tr>\n",
       "    <tr>\n",
       "      <th>Talk, TV</th>\n",
       "      <td>15</td>\n",
       "      <td>15</td>\n",
       "    </tr>\n",
       "  </tbody>\n",
       "</table>\n",
       "</div>"
      ],
      "text/plain": [
       "                                start_time  stop_time\n",
       "labels                                               \n",
       "Blocklist (Camera move/zoom)             7          7\n",
       "Blocklist (Clinical procedure)           2          2\n",
       "Blocklist (Data break)                 716        716\n",
       "Blocklist (Private time)                19         19\n",
       "Blocklist (Tether/bandage)               9          9\n",
       "Computer/phone                          99         99\n",
       "Eat, Computer/phone                      1          1\n",
       "Eat, TV                                  7          7\n",
       "Eat, Talk                               17         17\n",
       "Inactive                                20         20\n",
       "Other activity                          13         13\n",
       "Sleep/rest                             253        253\n",
       "TV                                     128        128\n",
       "Talk                                   121        121\n",
       "Talk, Computer/phone                     4          4\n",
       "Talk, TV                                15         15"
      ]
     },
     "execution_count": 22,
     "metadata": {},
     "output_type": "execute_result"
    }
   ],
   "source": [
    "coarse_labels.groupby('labels').count()"
   ]
  },
  {
   "cell_type": "code",
   "execution_count": 24,
   "id": "f65c5e84-c694-4038-8f9c-83246a4095b7",
   "metadata": {},
   "outputs": [
    {
     "data": {
      "text/plain": [
       "reaches pynwb.epoch.TimeIntervals at 0x1660874131248\n",
       "Fields:\n",
       "  colnames: ['start_time' 'stop_time' 'Reach_magnitude_px' 'Reach_angle_degrees'\n",
       " 'Onset_speed_px_per_sec' 'Speech_ratio' 'Bimanual_ratio'\n",
       " 'Bimanual_overlap' 'Bimanual_class']\n",
       "  columns: (\n",
       "    start_time <class 'hdmf.common.table.VectorData'>,\n",
       "    stop_time <class 'hdmf.common.table.VectorData'>,\n",
       "    Reach_magnitude_px <class 'hdmf.common.table.VectorData'>,\n",
       "    Reach_angle_degrees <class 'hdmf.common.table.VectorData'>,\n",
       "    Onset_speed_px_per_sec <class 'hdmf.common.table.VectorData'>,\n",
       "    Speech_ratio <class 'hdmf.common.table.VectorData'>,\n",
       "    Bimanual_ratio <class 'hdmf.common.table.VectorData'>,\n",
       "    Bimanual_overlap <class 'hdmf.common.table.VectorData'>,\n",
       "    Bimanual_class <class 'hdmf.common.table.VectorData'>\n",
       "  )\n",
       "  description: Features of each reach\n",
       "  id: id <class 'hdmf.common.table.ElementIdentifiers'>"
      ]
     },
     "execution_count": 24,
     "metadata": {},
     "output_type": "execute_result"
    }
   ],
   "source": [
    "nwb.intervals['reaches']"
   ]
  },
  {
   "cell_type": "code",
   "execution_count": 27,
   "id": "b3456e04-3b8f-4c2c-9531-086eec7a37dd",
   "metadata": {},
   "outputs": [
    {
     "ename": "AttributeError",
     "evalue": "'Dataset' object has no attribute 'reshape'",
     "output_type": "error",
     "traceback": [
      "\u001b[1;31m---------------------------------------------------------------------------\u001b[0m",
      "\u001b[1;31mAttributeError\u001b[0m                            Traceback (most recent call last)",
      "Input \u001b[1;32mIn [28]\u001b[0m, in \u001b[0;36m<cell line: 1>\u001b[1;34m()\u001b[0m\n\u001b[1;32m----> 1\u001b[0m plt\u001b[38;5;241m.\u001b[39mscatter(\u001b[43mnwb\u001b[49m\u001b[38;5;241;43m.\u001b[39;49m\u001b[43mprocessing\u001b[49m\u001b[43m[\u001b[49m\u001b[38;5;124;43m'\u001b[39;49m\u001b[38;5;124;43mbehavior\u001b[39;49m\u001b[38;5;124;43m'\u001b[39;49m\u001b[43m]\u001b[49m\u001b[38;5;241;43m.\u001b[39;49m\u001b[43mdata_interfaces\u001b[49m\u001b[43m[\u001b[49m\u001b[38;5;124;43m'\u001b[39;49m\u001b[38;5;124;43mPosition\u001b[39;49m\u001b[38;5;124;43m'\u001b[39;49m\u001b[43m]\u001b[49m\u001b[38;5;241;43m.\u001b[39;49m\u001b[43mspatial_series\u001b[49m\u001b[43m[\u001b[49m\u001b[38;5;124;43m'\u001b[39;49m\u001b[38;5;124;43mL_Wrist\u001b[39;49m\u001b[38;5;124;43m'\u001b[39;49m\u001b[43m]\u001b[49m\u001b[38;5;241;43m.\u001b[39;49m\u001b[43mdata\u001b[49m\u001b[38;5;241;43m.\u001b[39;49m\u001b[43mreshape\u001b[49m(\u001b[38;5;241m2\u001b[39m, \u001b[38;5;241m1\u001b[39m))\n",
      "\u001b[1;31mAttributeError\u001b[0m: 'Dataset' object has no attribute 'reshape'"
     ]
    }
   ],
   "source": []
  },
  {
   "cell_type": "code",
   "execution_count": null,
   "id": "317ff87b-3a3a-4e20-8fe8-e8e01709811b",
   "metadata": {},
   "outputs": [],
   "source": []
  }
 ],
 "metadata": {
  "kernelspec": {
   "display_name": "Python 3 (ipykernel)",
   "language": "python",
   "name": "python3"
  },
  "language_info": {
   "codemirror_mode": {
    "name": "ipython",
    "version": 3
   },
   "file_extension": ".py",
   "mimetype": "text/x-python",
   "name": "python",
   "nbconvert_exporter": "python",
   "pygments_lexer": "ipython3",
   "version": "3.8.12"
  }
 },
 "nbformat": 4,
 "nbformat_minor": 5
}
