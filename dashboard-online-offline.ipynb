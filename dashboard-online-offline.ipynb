{
 "cells": [
  {
   "cell_type": "markdown",
   "id": "7cde4f62-d671-47f1-ab8e-a523c783040c",
   "metadata": {
    "pycharm": {
     "name": "#%% md\n"
    }
   },
   "source": [
    "## ECoG and pose dataset\n",
    "\n",
    "*Falafel. NMA DeepLearning 2022*"
   ]
  },
  {
   "cell_type": "markdown",
   "id": "2dd843ef-4559-48b6-854a-dae715b4fe48",
   "metadata": {
    "pycharm": {
     "name": "#%% md\n"
    }
   },
   "source": [
    "paper - https://www.nature.com/articles/s41597-022-01280-y\n",
    "\n",
    "The data files are available on The DANDI Archive (https://doi.org/10.48324/dandi.000055/0.220127.0436)47, in the Neurodata Without Borders: Neurophysiology 2.0 (NWB:N) format43. All datastreams and metadata have been combined into a single file for each participant and day of recording, as indicated by the file name. For example, sub-01_ses-3_behavior+ecephys.nwb contains data from participant P01 on recording day 3. We used PyNWB 1.4.0 to load and interact with these data files. Table 1 shows the location of all main variables within each data file.\n",
    "\n",
    "Each file contains continuous ECoG and pose data over a 24-hour period, with units of and pixels, respectively. ECoG data is located under\\acquisition\\ElectricalSeries as a pynwb.ecephys.ElectricalSeries variable. Pose data can be found under\\processing\\behavior\\data_interfaces\\Position as an pynwb.behavior.Position variable. Pose data is provided for the left/right ear (L_Ear, R_Ear), shoulder (L_Shoulder, R_Shoulder), elbow (L_Elbow, R_Elbow), and wrist (L_Wrist, R_Wrist), as well as the nose (Nose).\n",
    "\n",
    "In addition to these core datastreams, each file contains relevant metadata. Contralateral wrist movement events are located in\\processing\\behavior\\data_interfaces\\ReachEvents as an ndx_events.events.Events variable. Quantitative neural and behavioral features for each event can be found in\\intervals\\reaches as a pynwb.epoch.TimeIntervals table with columns for each feature. Coarse behavioral labels are included in\\intervals\\epochs as a pynwb.epoch.TimeIntervals table. Each row contains the label along with the start and stop time in seconds.\n",
    "\n",
    "We also include electrode-specific metadata in\\electrodes as a hdmf.common.table.DynamicTable. Columns contain different metadata features, such as Montreal Neurological Institute (MNI) x, y, z coordinates and electrode group names. Electrode groups were named by clinicians based on their location in the brain. This table also contains the standard deviation, kurtosis, and median absolute deviation for each electrode computed over the entire recording file (excluding non-numeric values). Electrodes that we identified as noisy based on abnormal standard deviation and kurtosis are marked as False under the ‘good’ column. Table 2 shows the number of good electrodes that remain for each participant during the first available day of recording. We have also included the R2 scores obtained from regressing ECoG spectral power on the 10 quantitative event features for each participant’s wrist movement events18. Low-frequency power (used for low_freq_R2) indicates power between 8–32 Hz, while high-frequency power (used for high_freq_R2) denotes power between 76–100 Hz."
   ]
  },
  {
   "cell_type": "markdown",
   "id": "7156a899-111f-40ee-a1fd-4dc9f104a198",
   "metadata": {
    "pycharm": {
     "name": "#%% md\n"
    }
   },
   "source": [
    "## Streaming dataset data\n",
    "\n",
    "Example code from dataset creators: https://github.com/BruntonUWBio/ajile12-nwb-data/blob/main/stream_dashboard.ipynb\n",
    "\n",
    "Streaming from nwb tutorial:\n",
    "https://pynwb.readthedocs.io/en/stable/tutorials/advanced_io/streaming.html\n",
    "\n"
   ]
  },
  {
   "cell_type": "markdown",
   "id": "73d77153-3e47-442b-9230-11df8b9663bd",
   "metadata": {
    "pycharm": {
     "name": "#%% md\n"
    }
   },
   "source": [
    "### Attention\n",
    "**ros3 error:**\n",
    "```bash\n",
    "pip uninstall h5py\n",
    "\n",
    "conda install -c conda-forge h5py\n",
    "```\n",
    "**\"driver\" param not found error**\n",
    "```bash\n",
    "conda update pynwb\n",
    "```"
   ]
  },
  {
   "cell_type": "markdown",
   "id": "38dd74a0-f945-41d1-9d79-8265f59dbdd0",
   "metadata": {
    "pycharm": {
     "name": "#%% md\n"
    }
   },
   "source": [
    "#### Imports"
   ]
  },
  {
   "cell_type": "code",
   "execution_count": 4,
   "id": "a8028638-44b8-44c6-9e7c-226f6011ae41",
   "metadata": {
    "pycharm": {
     "name": "#%%\n"
    }
   },
   "outputs": [],
   "source": [
    "#!pip install git+https://github.com/catalystneuro/brunton-lab-to-nwb.git\n",
    "#!pip install nilearn\n",
    "#!pip install mne\n",
    "#!pin install dandi"
   ]
  },
  {
   "cell_type": "code",
   "execution_count": 1,
   "id": "b73cf3b7-2811-4c5e-a38f-bfdaf2373937",
   "metadata": {
    "pycharm": {
     "name": "#%%\n"
    }
   },
   "outputs": [
    {
     "name": "stdout",
     "output_type": "stream",
     "text": [
      "Importing modules...\n",
      "Module import successful.\n"
     ]
    }
   ],
   "source": [
    "print(\"Importing modules...\")\n",
    "\n",
    "# essentials\n",
    "import os\n",
    "import sys\n",
    "import time\n",
    "import warnings\n",
    "from tqdm import tqdm\n",
    "\n",
    "# science\n",
    "import numpy as np\n",
    "import pandas as pd\n",
    "import scipy as sp\n",
    "\n",
    "\n",
    "# for neural data\n",
    "import mne\n",
    "import nilearn\n",
    "from scipy import signal, stats\n",
    "\n",
    "# for nwb files and AJILE dataset\n",
    "from brunton_lab_to_nwb.brunton_widgets import BruntonDashboard\n",
    "from dandi.dandiapi import DandiAPIClient\n",
    "from pynwb import NWBHDF5IO\n",
    "\n",
    "import dandi\n",
    "\n",
    "# plotting\n",
    "import matplotlib.pyplot as plt\n",
    "import seaborn as sns\n",
    "\n",
    "from matplotlib import rc\n",
    "#rc('font',**{'family':'sans-serif'})\n",
    "#rc('text', usetex=True)\n",
    "#rc('text.latex',preamble=r'\\usepackage[utf8]{inputenc}')\n",
    "#rc('text.latex',preamble=r'\\usepackage[russian]{babel}')\n",
    "#rc('axes', **{'titlesize': '16', 'labelsize': '16'})\n",
    "#rc('legend', **{'fontsize': '16'})\n",
    "#rc('figure', **{'figsize': (12, 8)})\n",
    "\n",
    "warnings.filterwarnings(\"ignore\")\n",
    "print(\"Module import successful.\")"
   ]
  },
  {
   "cell_type": "code",
   "execution_count": 2,
   "id": "7f2f4b5d-c715-4aea-9032-e2077d4865aa",
   "metadata": {
    "pycharm": {
     "name": "#%%\n"
    }
   },
   "outputs": [],
   "source": [
    "sbj, session = 9, 3\n",
    "use_cloud_file = True\n",
    "\n",
    "fname = \"sub-{0:>02d}_ses-{1:.0f}_behavior+ecephys.nwb\".format(sbj, session)\n",
    "local_fpath = \"sub-{0:>02d}_ses-{1:.0f}_behavior+ecephys.nwb\".format(sbj, session)\n",
    "cloud_fpath = \"sub-{0:>02d}/sub-{0:>02d}_ses-{1:.0f}_behavior+ecephys.nwb\".format(sbj, session) \n",
    "\n"
   ]
  },
  {
   "cell_type": "code",
   "execution_count": 3,
   "id": "2b470634-f277-4ee1-978d-0f500b4ef851",
   "metadata": {
    "pycharm": {
     "name": "#%%\n"
    }
   },
   "outputs": [
    {
     "name": "stdout",
     "output_type": "stream",
     "text": [
      "Retrieving cloud file...\n"
     ]
    },
    {
     "name": "stderr",
     "output_type": "stream",
     "text": [
      "A newer version (0.45.1) of dandi/dandi-cli is available. You are using 0.45.0\n"
     ]
    },
    {
     "name": "stdout",
     "output_type": "stream",
     "text": [
      "Starting a Dandi streaming client...\n",
      "Reading a file...\n",
      "Returning nwb for sub-09_ses-3_behavior+ecephys.nwb\n"
     ]
    }
   ],
   "source": [
    "warnings.filterwarnings(\"ignore\")\n",
    "\n",
    "if use_cloud_file:\n",
    "    print(\"Retrieving cloud file...\")\n",
    "    with DandiAPIClient() as client:\n",
    "\n",
    "        print(\"Starting a Dandi streaming client...\")\n",
    "\n",
    "        asset = client.get_dandiset(\"000055\", \"draft\").get_asset_by_path(cloud_fpath)\n",
    "        s3_path = asset.get_content_url(follow_redirects=1, strip_query=True)\n",
    "\n",
    "    io = NWBHDF5IO(s3_path, mode='r', load_namespaces=True, driver='ros3')\n",
    "else:\n",
    "    print(\"Retrieving local file..\")\n",
    "    local_file_path = os.path.join(os.getcwd(), local_fpath)\n",
    "    io = NWBHDF5IO(local_file_path, mode='r', load_namespaces=False)\n",
    "    \n",
    "print(\"Reading a file...\")\n",
    "\n",
    "nwb = io.read()\n",
    "\n",
    "print(f\"Returning nwb for {fname}\")"
   ]
  },
  {
   "cell_type": "code",
   "execution_count": null,
   "id": "6011e429-beb7-4090-92f6-abe099599e2e",
   "metadata": {
    "pycharm": {
     "name": "#%%\n",
     "is_executing": true
    }
   },
   "outputs": [],
   "source": [
    "# run to open a dashboard\n",
    "\n",
    "if use_cloud_file:\n",
    "    board = BruntonDashboard(nwb, tab1='stream')\n",
    "else:\n",
    "    board = BruntonDashboard(nwb, tab1='local')\n",
    "    \n",
    "board"
   ]
  },
  {
   "cell_type": "markdown",
   "id": "a2562b13-7b7a-46ed-ab36-7fcaa5ad6cfb",
   "metadata": {
    "pycharm": {
     "name": "#%% md\n"
    }
   },
   "source": []
  },
  {
   "cell_type": "code",
   "execution_count": 7,
   "id": "b8a7a39e-fcff-403a-b41a-9773c52b96d8",
   "metadata": {
    "pycharm": {
     "name": "#%%\n"
    }
   },
   "outputs": [
    {
     "name": "stdout",
     "output_type": "stream",
     "text": [
      "Neural data shape:  (43200000, 126)\n",
      "Sampling rate:  500.0\n",
      "Creating RawArray with float64 data, n_channels=126, n_times=50000\n",
      "    Range : 0 ... 49999 =      0.000 ...    99.998 secs\n",
      "Ready.\n"
     ]
    }
   ],
   "source": [
    "neural_data = nwb.acquisition['ElectricalSeries'].data\n",
    "\n",
    "print(\"Neural data shape: \", neural_data.shape)\n",
    "n_times, n_chan = neural_data.shape\n",
    "SF = nwb.acquisition['ElectricalSeries'].rate\n",
    "print(\"Sampling rate: \", SF)\n",
    "\n",
    "info = mne.create_info(n_chan, sfreq=SF)\n",
    "\n",
    "max_time = 100 #sec\n",
    "mne_data_chunk = mne.io.RawArray(neural_data[:int(max_time * SF)].reshape(n_chan, -1), info)"
   ]
  },
  {
   "cell_type": "code",
   "execution_count": 8,
   "id": "9690a12b-318c-4e42-a08b-52e63a3b3aa1",
   "metadata": {
    "pycharm": {
     "name": "#%%\n"
    }
   },
   "outputs": [
    {
     "name": "stdout",
     "output_type": "stream",
     "text": [
      "15\n"
     ]
    }
   ],
   "source": [
    "print(len(list(nwb.processing['behavior']['ReachEvents'].timestamps)))"
   ]
  },
  {
   "cell_type": "markdown",
   "id": "19db50d2-4fed-4535-b7f9-4749fdeacfe9",
   "metadata": {
    "pycharm": {
     "name": "#%% md\n"
    }
   },
   "source": [
    "### Reach durations"
   ]
  },
  {
   "cell_type": "code",
   "execution_count": 9,
   "id": "4df1f8e7-ab55-4b0b-80f1-de14f9c826e9",
   "metadata": {
    "pycharm": {
     "name": "#%%\n"
    }
   },
   "outputs": [
    {
     "data": {
      "text/plain": "(array([2., 1., 0., 4., 3., 1., 0., 0., 3., 1.]),\n array([0.6 , 0.73, 0.86, 0.99, 1.12, 1.25, 1.38, 1.51, 1.64, 1.77, 1.9 ]),\n <BarContainer object of 10 artists>)"
     },
     "execution_count": 9,
     "metadata": {},
     "output_type": "execute_result"
    },
    {
     "data": {
      "text/plain": "<Figure size 432x288 with 1 Axes>",
      "image/png": "[encoded data removed]"
     },
     "metadata": {
      "needs_background": "light"
     },
     "output_type": "display_data"
    }
   ],
   "source": [
    "plt.hist(np.array(nwb.intervals['reaches']['stop_time'].data) - np.array(nwb.intervals['reaches']['start_time'].data))"
   ]
  },
  {
   "cell_type": "code",
   "execution_count": 10,
   "id": "8b820d25-a22b-4560-8396-7a8f47cd0802",
   "metadata": {
    "pycharm": {
     "name": "#%%\n"
    }
   },
   "outputs": [
    {
     "data": {
      "text/plain": "[24077.1,\n 24262.754,\n 34223.492999999995,\n 34267.593,\n 39710.516,\n 41278.43,\n 62912.246,\n 62953.312999999995,\n 63344.012,\n 63620.388]"
     },
     "execution_count": 10,
     "metadata": {},
     "output_type": "execute_result"
    }
   ],
   "source": [
    "list(nwb.intervals['reaches']['start_time'].data)[:10]"
   ]
  },
  {
   "cell_type": "code",
   "execution_count": 11,
   "id": "4b4d1ca5-323d-48b3-9caf-a42d6f874466",
   "metadata": {
    "pycharm": {
     "name": "#%%\n"
    }
   },
   "outputs": [],
   "source": [
    "coarse_labels = nwb.intervals['epochs'].to_dataframe()"
   ]
  },
  {
   "cell_type": "code",
   "execution_count": 12,
   "id": "3a64336b-d50f-442b-843b-2cc946ce5715",
   "metadata": {
    "pycharm": {
     "name": "#%%\n"
    }
   },
   "outputs": [
    {
     "data": {
      "text/plain": "                                 start_time  stop_time\nlabels                                                \n                                         28         28\nBlocklist (Camera move/zoom)             11         11\nBlocklist (Clinical procedure)            5          5\nBlocklist (Data break)                  713        713\nBlocklist (Hands under blanket)           6          6\nBlocklist (Private time)                  3          3\nBlocklist (Tether/bandage)               22         22\nEat, Talk                                 5          5\nInactive                                 61         61\nOther activity                            4          4\nSleep/rest                              550        550\nTalk                                     17         17",
      "text/html": "<div>\n<style scoped>\n    .dataframe tbody tr th:only-of-type {\n        vertical-align: middle;\n    }\n\n    .dataframe tbody tr th {\n        vertical-align: top;\n    }\n\n    .dataframe thead th {\n        text-align: right;\n    }\n</style>\n<table border=\"1\" class=\"dataframe\">\n  <thead>\n    <tr style=\"text-align: right;\">\n      <th></th>\n      <th>start_time</th>\n      <th>stop_time</th>\n    </tr>\n    <tr>\n      <th>labels</th>\n      <th></th>\n      <th></th>\n    </tr>\n  </thead>\n  <tbody>\n    <tr>\n      <th></th>\n      <td>28</td>\n      <td>28</td>\n    </tr>\n    <tr>\n      <th>Blocklist (Camera move/zoom)</th>\n      <td>11</td>\n      <td>11</td>\n    </tr>\n    <tr>\n      <th>Blocklist (Clinical procedure)</th>\n      <td>5</td>\n      <td>5</td>\n    </tr>\n    <tr>\n      <th>Blocklist (Data break)</th>\n      <td>713</td>\n      <td>713</td>\n    </tr>\n    <tr>\n      <th>Blocklist (Hands under blanket)</th>\n      <td>6</td>\n      <td>6</td>\n    </tr>\n    <tr>\n      <th>Blocklist (Private time)</th>\n      <td>3</td>\n      <td>3</td>\n    </tr>\n    <tr>\n      <th>Blocklist (Tether/bandage)</th>\n      <td>22</td>\n      <td>22</td>\n    </tr>\n    <tr>\n      <th>Eat, Talk</th>\n      <td>5</td>\n      <td>5</td>\n    </tr>\n    <tr>\n      <th>Inactive</th>\n      <td>61</td>\n      <td>61</td>\n    </tr>\n    <tr>\n      <th>Other activity</th>\n      <td>4</td>\n      <td>4</td>\n    </tr>\n    <tr>\n      <th>Sleep/rest</th>\n      <td>550</td>\n      <td>550</td>\n    </tr>\n    <tr>\n      <th>Talk</th>\n      <td>17</td>\n      <td>17</td>\n    </tr>\n  </tbody>\n</table>\n</div>"
     },
     "execution_count": 12,
     "metadata": {},
     "output_type": "execute_result"
    }
   ],
   "source": [
    "coarse_labels.groupby('labels').count()"
   ]
  },
  {
   "cell_type": "code",
   "execution_count": 13,
   "id": "f65c5e84-c694-4038-8f9c-83246a4095b7",
   "metadata": {
    "pycharm": {
     "name": "#%%\n"
    }
   },
   "outputs": [
    {
     "data": {
      "text/plain": "reaches pynwb.epoch.TimeIntervals at 0x140251513330512\nFields:\n  colnames: ['start_time' 'stop_time' 'Reach_magnitude_px' 'Reach_angle_degrees'\n 'Onset_speed_px_per_sec' 'Speech_ratio' 'Bimanual_ratio'\n 'Bimanual_overlap' 'Bimanual_class']\n  columns: (\n    start_time <class 'hdmf.common.table.VectorData'>,\n    stop_time <class 'hdmf.common.table.VectorData'>,\n    Reach_magnitude_px <class 'hdmf.common.table.VectorData'>,\n    Reach_angle_degrees <class 'hdmf.common.table.VectorData'>,\n    Onset_speed_px_per_sec <class 'hdmf.common.table.VectorData'>,\n    Speech_ratio <class 'hdmf.common.table.VectorData'>,\n    Bimanual_ratio <class 'hdmf.common.table.VectorData'>,\n    Bimanual_overlap <class 'hdmf.common.table.VectorData'>,\n    Bimanual_class <class 'hdmf.common.table.VectorData'>\n  )\n  description: Features of each reach\n  id: id <class 'hdmf.common.table.ElementIdentifiers'>"
     },
     "execution_count": 13,
     "metadata": {},
     "output_type": "execute_result"
    }
   ],
   "source": [
    "nwb.intervals['reaches']"
   ]
  },
  {
   "cell_type": "code",
   "execution_count": 13,
   "id": "b3456e04-3b8f-4c2c-9531-086eec7a37dd",
   "metadata": {
    "pycharm": {
     "name": "#%%\n"
    }
   },
   "outputs": [],
   "source": []
  },
  {
   "cell_type": "code",
   "execution_count": null,
   "id": "317ff87b-3a3a-4e20-8fe8-e8e01709811b",
   "metadata": {
    "pycharm": {
     "name": "#%%\n"
    }
   },
   "outputs": [],
   "source": []
  }
 ],
 "metadata": {
  "kernelspec": {
   "display_name": "Python 3 (ipykernel)",
   "language": "python",
   "name": "python3"
  },
  "language_info": {
   "codemirror_mode": {
    "name": "ipython",
    "version": 3
   },
   "file_extension": ".py",
   "mimetype": "text/x-python",
   "name": "python",
   "nbconvert_exporter": "python",
   "pygments_lexer": "ipython3",
   "version": "3.8.12"
  }
 },
 "nbformat": 4,
 "nbformat_minor": 5
}